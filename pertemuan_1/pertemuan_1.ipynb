{
 "cells": [
  {
   "cell_type": "markdown",
   "source": [
    "# History | 20 Tahun  Library OpenCV\n",
    "- Dirilis pertama kali oleh **Intel** pada tahun 1999\n",
    "- Versi alpha rilis secara public di *IEEE Conference on Computer Vision and Pattern Recognition* pada tahun 2000 \n",
    "- Versi 1.0 rilis pada tahun 2006 (C support) [(link)](https://opencv.org/anniversary/20/?p=366)\n",
    "- Versi 1.1 \"pre-release\" rilis tahun 2008\n",
    "- Development diserahkan kepada **Willow Garage** dan **Itseez** (*leading developer of OpenCV*) pada tahun 2008 [(link)](https://opencv.org/anniversary/20/?p=59)\n",
    "- **OpenCV 2**  (major update,  C++ support & Python Binding) rilis Oktober 2009 [(link)](https://opencv.org/anniversary/20/?p=145)\n",
    "- Pada tahun 2012 OpenCV di ambil alih oleh non-profit foundation **OpenCV.org** dan OpenCV mirasi ke **Github** [(link)](https://opencv.org/anniversary/20/?p=147)\n",
    "- **OpenCV 3.0**  release Juni 2015 (interface improvements, T-API – an OpenCL-based acceleration) [(link) ](https://opencv.org/anniversary/20/?p=150)\n",
    "- Pada tahun 2016 Intel mengakuisisi **Itseez**, sehingga OpenCV kembali dibawah **Intel** [(link)](https://opencv.org/anniversary/20/?p=152)\n",
    "- Akhir 2016 OpenCV merilis DNN module and JavaScript (**OpenCV.js**) support (OpenCV >= 3.3) [(link)](https://opencv.org/anniversary/20/?paged=2&cat=6)\n",
    "- Tahun 2018, Intel merilis **OpenVINO toolkit**, yang dapat digunakan sebagai backend OpenCV DNN [(link)](https://opencv.org/anniversary/20/?p=158) \n",
    "- **OpenCV 4.0**  release (C++11, Vulkan backend, etc.) Nov 2018\n",
    "- **OpenCV 4.4**  release Juli 2020\n",
    "- OpenCV merilis **OAK: Spatial AI Powered** pada Juli 2020\n",
    "\n",
    "<img src=\"res/oak.jpg\" style=\"width: 500px; \"></img>\n",
    "___"
   ],
   "metadata": {}
  },
  {
   "cell_type": "markdown",
   "source": [
    "# Pertemuan 1 : OpenCV GUI Feature\n",
    "- Read, Write & Display Image \n",
    "- Play, Capture & Write Video \n",
    "- Drawing Function (line, rectangle, circle, polyline, polyfill)\n",
    "___\n"
   ],
   "metadata": {}
  },
  {
   "cell_type": "markdown",
   "source": [
    "## Jupyter Shortcut\n",
    "- **ESC** : masuk ke Command Mode\n",
    "- **ENTER** : masuk ke Cell Mode\n",
    "- **ESC** + **A**  : Menambahkan cell ke atas\n",
    "- **ESC** + **B** : Menambahkan cell ke bawah\n",
    "- **ESC** + **D D** : Delete cell terpilih\n",
    "- **CTRL** + **B** : Show hide left panel\n",
    "- **SHIFT** + **M** : Merge selected cell\n",
    "- **CTRL** + **SHIFT** + **–** : Split cell from cursor position\n",
    "- **SHIFT** + **DOWN** : Select multiple cell (downward direction)\n",
    "- **SHIFT** + **UP** : Select multiple cell (Upward direction)\n",
    "- **CTRL** + **/** : Commenting or uncommenting\n",
    "___"
   ],
   "metadata": {}
  },
  {
   "cell_type": "code",
   "execution_count": null,
   "source": [
    "import cv2"
   ],
   "outputs": [],
   "metadata": {}
  },
  {
   "cell_type": "code",
   "execution_count": null,
   "source": [
    "# check versi OpenCV \n",
    "\n",
    "print(cv2.__version__)"
   ],
   "outputs": [],
   "metadata": {}
  },
  {
   "cell_type": "code",
   "execution_count": null,
   "source": [
    "# Check buil information\n",
    "\n",
    "print(cv2.getBuildInformation())"
   ],
   "outputs": [],
   "metadata": {}
  },
  {
   "cell_type": "markdown",
   "source": [
    "# 1. Read Image"
   ],
   "metadata": {}
  },
  {
   "cell_type": "code",
   "execution_count": null,
   "source": [
    "img = cv2.imread(\"lena.jpg\")"
   ],
   "outputs": [],
   "metadata": {}
  },
  {
   "cell_type": "code",
   "execution_count": null,
   "source": [
    "type(img)"
   ],
   "outputs": [],
   "metadata": {}
  },
  {
   "cell_type": "code",
   "execution_count": null,
   "source": [
    "img.shape"
   ],
   "outputs": [],
   "metadata": {}
  },
  {
   "cell_type": "markdown",
   "source": [
    "- method `cv2.imread(path_to_file, IMREAD_FLAG)` \n",
    "    - `path_to_file` : image file location\n",
    "    - `IMREAD_FLAG` : \n",
    "        - `cv2.IMREAD_UNCHANGED` : loaded image as is. (default)\n",
    "        - `cv2.IMREAD_GRAYSCALE` : convert image to the single channel grayscale image.\n",
    "        - `cv2.IMREAD_COLOR` : convert image to the 3 channel BGR color image.\n",
    "        - `cv2.IMREAD_ANYDEPTH` : return 16-bit/32-bit image when the input has the corresponding depth, otherwise convert it to 8-bit.\n",
    "        - `cv2.IMREAD_ANYCOLOR` : image is read in any possible color format.\n",
    "        - `cv2.IMREAD_LOAD_GDAL` : use the gdal driver for loading the image.\n",
    "        - `cv2.IMREAD_REDUCED_GRAYSCALE_2` : convert image to the single channel grayscale image and the image size reduced 1/2.\n",
    "        - `cv2.IMREAD_REDUCED_COLOR_2` : convert image to the 3 channel BGR color image and the image size reduced 1/2.\n",
    "        - `cv2.IMREAD_REDUCED_GRAYSCALE_4` : convert image to the single channel grayscale image and the image size reduced 1/4.\n",
    "        - `cv2.IMREAD_REDUCED_COLOR_4` : convert image to the 3 channel BGR color image and the image size reduced 1/4.\n",
    "        - `cv2.IMREAD_REDUCED_GRAYSCALE_8` : convert image to the single channel grayscale image and the image size reduced 1/8.\n",
    "        - `cv2.IMREAD_REDUCED_COLOR_8` : convert image to the 3 channel BGR color image and the image size reduced 1/8.\n",
    "        - `cv2.IMREAD_IGNORE_ORIENTATION` : do not rotate the image according to EXIF’s orientation flag."
   ],
   "metadata": {}
  },
  {
   "cell_type": "code",
   "execution_count": null,
   "source": [
    "img = cv2.imread(\"lena.jpg\", cv2.IMREAD_GRAYSCALE)"
   ],
   "outputs": [],
   "metadata": {}
  },
  {
   "cell_type": "code",
   "execution_count": null,
   "source": [
    "img.shape"
   ],
   "outputs": [],
   "metadata": {}
  },
  {
   "cell_type": "markdown",
   "source": [
    "# 2. Display Image"
   ],
   "metadata": {}
  },
  {
   "cell_type": "markdown",
   "source": [
    "### Setting SSH X11 Forwarding \n",
    "- Download & Install VcXsrv Server : [https://github.com/ArcticaProject/vcxsrv/releases](https://github.com/ArcticaProject/vcxsrv/releases)\n",
    "- Start VcXsrv (Default Display:0.0)\n",
    "- Add Windows Environment Variable : `DISPLAY = localhost:0.0`\n",
    "![](res/env-var.png)\n",
    "- Add Environment Display setting in VS Code : \n",
    "    - Press F1\n",
    "    - Search : `Preferences: Open Setting (UI)`\n",
    "    - Input : `terminal.integrated.env.windows`\n",
    "    - Click edit `setting.js` \n",
    "    - modify setting to : \n",
    "        ```\n",
    "            \"terminal.integrated.env.windows\": {\n",
    "                \"DISPLAY\": \"127.0.0.1:0.0\"\n",
    "            }\n",
    "        ```\n",
    "        ![](res/vsc-env-var.png)\n",
    "- Open SSH config file in Visual Studio Code : \n",
    "    - Press F1\n",
    "    - Search : `Remote-SSH: Open SSH Configuration File...`\n",
    "    - Add change connection to : \n",
    "        ```\n",
    "        Host <YOUR_CONNECTION_NAME>\n",
    "        HostName <YOUR_JETSON_IP>\n",
    "        User <YOUR_JETSON_USERNAME>\n",
    "        ForwardAgent yes\n",
    "        ForwardX11 yes\n",
    "        ForwardX11Trusted yes\n",
    "        ```"
   ],
   "metadata": {}
  },
  {
   "cell_type": "code",
   "execution_count": null,
   "source": [
    "# display Image via OpenCV GUI\n",
    "\n",
    "img = cv2.imread(\"lena.jpg\")\n",
    "\n",
    "cv2.imshow(\"Lena Photo\", img)\n",
    "cv2.waitKey(0)\n",
    "cv2.destroyAllWindows()"
   ],
   "outputs": [],
   "metadata": {}
  },
  {
   "cell_type": "code",
   "execution_count": null,
   "source": [
    "cv2.imshow('lena.jpg',img)\n",
    "res = cv2.waitKey(6000) # display the window for 6000 ms (6 s), \n",
    "                        # if any keypress detected before 6 s, \n",
    "                        # the window will be closed. \n",
    "print(res)\n",
    "cv2.destroyAllWindows()"
   ],
   "outputs": [],
   "metadata": {}
  },
  {
   "cell_type": "code",
   "execution_count": null,
   "source": [
    "# show image\n",
    "cv2.imshow('lena.jpg',img)\n",
    "res = cv2.waitKey(4000)\n",
    "print('You pressed : %s' % chr(res) if res >=0 and res <= 127 else '<unknown>')\n",
    "cv2.destroyAllWindows()"
   ],
   "outputs": [],
   "metadata": {}
  },
  {
   "cell_type": "code",
   "execution_count": null,
   "source": [
    "%matplotlib inline\n",
    "import matplotlib.pyplot as plt\n",
    "\n",
    "plt.imshow(img)"
   ],
   "outputs": [],
   "metadata": {}
  },
  {
   "cell_type": "code",
   "execution_count": null,
   "source": [
    "img_rgb = img[:,:,::-1] # numpy reverse matrix (BGR to RGB)\n",
    "plt.imshow(img_rgb)"
   ],
   "outputs": [],
   "metadata": {}
  },
  {
   "cell_type": "code",
   "execution_count": null,
   "source": [],
   "outputs": [],
   "metadata": {}
  },
  {
   "cell_type": "markdown",
   "source": [
    "# 3. Save Image"
   ],
   "metadata": {}
  },
  {
   "cell_type": "code",
   "execution_count": null,
   "source": [
    "# show image\n",
    "\n",
    "cv2.imwrite('saved_lena.jpg', img)"
   ],
   "outputs": [],
   "metadata": {}
  },
  {
   "cell_type": "markdown",
   "source": [
    "- method `cv2.imwrite(filename, img, IMWRITE_FLAG)`\n",
    "    - `path_to_file` : image file location.\n",
    "    - `img` : image matrix (numpy array)\n",
    "    - `IMWRITE_FLAG` : \n",
    "        - `cv2.IMWRITE_JPEG_QUALITY` : For JPEG, it can be a quality from 0 to 100 (the higher is the better). Default value is 95.\n",
    "        - `cv2.IMWRITE_JPEG_PROGRESSIVE` : Enable JPEG features, 0 or 1, default is False.\n",
    "        - `cv2.IMWRITE_JPEG_OPTIMIZE` : Enable JPEG features, 0 or 1, default is False.\n",
    "        - `cv2.IMWRITE_JPEG_RST_INTERVAL` : JPEG restart interval, 0 - 65535, default is 0 - no restart.\n",
    "        - `cv2.IMWRITE_JPEG_LUMA_QUALITY` : Separate luma quality level, 0 - 100, default is 0 - don’t use.\n",
    "        - `cv2.IMWRITE_JPEG_CHROMA_QUALITY` : Separate chroma quality level, 0 - 100, default is 0 - don’t use.\n",
    "        - `cv2.IMWRITE_PNG_COMPRESSION` : For PNG, it can be the compression level from 0 to 9. A higher value means a smaller size and longer compression time. If specified, strategy is changed to IMWRITE_PNG_STRATEGY_DEFAULT (Z_DEFAULT_STRATEGY). Default value is 1 (best speed setting).\n",
    "        - `cv2.IMWRITE_PNG_STRATEGY`: One of cv::ImwritePNGFlags, default is IMWRITE_PNG_STRATEGY_RLE.\n",
    "        - `cv2.IMWRITE_PNG_BILEVEL` : Binary level PNG, 0 or 1, default is 0.\n",
    "        - `cv2.IMWRITE_PXM_BINARY` : For PPM, PGM, or PBM, it can be a binary format flag, 0 or 1. Default value is 1.\n",
    "        - `cv2.IMWRITE_WEBP_QUALITY` : For WEBP, it can be a quality from 1 to 100 (the higher is the better). By default (without any parameter) and for quality above 100 the lossless compression is used.\n",
    "        - `cv2.IMWRITE_PAM_TUPLETYPE` : For PAM, sets the TUPLETYPE field to the corresponding string value that is defined for the format.\n",
    "        "
   ],
   "metadata": {}
  },
  {
   "cell_type": "markdown",
   "source": [
    "# 4. Play Video"
   ],
   "metadata": {}
  },
  {
   "cell_type": "code",
   "execution_count": null,
   "source": [
    "# load video\n",
    "cap = cv2.VideoCapture('video.mp4')\n",
    "\n",
    "# iterate for each frame in video\n",
    "while cap.isOpened():\n",
    "    \n",
    "    # get image on each frame\n",
    "    ret, frame = cap.read()\n",
    "\n",
    "    # show image\n",
    "    cv2.imshow('Frame',frame)\n",
    "\n",
    "    # wait 25ms per frame and close using 'q' \n",
    "    if cv2.waitKey(25) == ord('q'):\n",
    "          break\n",
    "\n",
    "#close video\n",
    "cap.release()\n",
    "#close window\n",
    "cv2.destroyAllWindows()"
   ],
   "outputs": [],
   "metadata": {}
  },
  {
   "cell_type": "markdown",
   "source": [
    "# 5. Capture Photo from Camera"
   ],
   "metadata": {}
  },
  {
   "cell_type": "code",
   "execution_count": null,
   "source": [
    "! ls /dev/video*"
   ],
   "outputs": [],
   "metadata": {}
  },
  {
   "cell_type": "code",
   "execution_count": null,
   "source": [
    "cap = cv2.VideoCapture(2)\n",
    "ret, frame = cap.read()\n",
    "\n",
    "if ret :\n",
    "    cv2.imwrite(\"my_photo_2.jpg\", frame)\n",
    "else :\n",
    "    print(\"can't save photo\")\n",
    "    \n",
    "#close video\n",
    "cap.release()"
   ],
   "outputs": [],
   "metadata": {}
  },
  {
   "cell_type": "markdown",
   "source": [
    "# 6. Capture Video from Camera"
   ],
   "metadata": {}
  },
  {
   "cell_type": "code",
   "execution_count": null,
   "source": [
    "cap = cv2.VideoCapture(2)\n",
    "\n",
    "cap.set(cv2.CAP_PROP_FRAME_WIDTH, 320)\n",
    "cap.set(cv2.CAP_PROP_FRAME_HEIGHT, 240)\n",
    "\n",
    "# Define the codec and create VideoWriter object\n",
    "# fourcc is a 4-byte code used to specify the video codec\n",
    "fourcc = cv2.VideoWriter_fourcc(*'MP4V') # fourcc for .avi\n",
    "\n",
    "out = cv2.VideoWriter('output_2.mp4',fourcc, 20, (320,240)) # name, fourcc, fps, size\n",
    "\n",
    "cv2.VideoWriter\n",
    "while(cap.isOpened()):\n",
    "    ret, frame = cap.read()\n",
    "    if ret:\n",
    "\n",
    "        # write the flipped frame\n",
    "        out.write(frame)\n",
    "\n",
    "        cv2.imshow('frame',frame)\n",
    "        if cv2.waitKey(25) == ord('q'):\n",
    "            break\n",
    "    else:\n",
    "        break\n",
    "\n",
    "# Release everything if job is finished\n",
    "cap.release()\n",
    "out.release()\n",
    "cv2.destroyAllWindows()"
   ],
   "outputs": [],
   "metadata": {}
  },
  {
   "cell_type": "markdown",
   "source": [
    "- method `cap.set()`\n",
    "```\n",
    "0. cv2.CAP_PROP_POS_MSEC Current position of the video file in milliseconds.\n",
    "1. cv2.CAP_PROP_POS_FRAMES 0-based index of the frame to be decoded/captured next.\n",
    "2. cv2.CAP_PROP_POS_AVI_RATIO Relative position of the video file\n",
    "3. cv2.CAP_PROP_FRAME_WIDTH Width of the frames in the video stream.\n",
    "4. cv2.CAP_PROP_FRAME_HEIGHT Height of the frames in the video stream.\n",
    "5. cv2.CAP_PROP_FPS Frame rate.\n",
    "6. cv2.CAP_PROP_FOURCC 4-character code of codec.\n",
    "7. cv2.CAP_PROP_FRAME_COUNT Number of frames in the video file.\n",
    "8. cv2.CAP_PROP_FORMAT Format of the Mat objects returned by retrieve() .\n",
    "9. cv2.CAP_PROP_MODE Backend-specific value indicating the current capture mode.\n",
    "10. cv2.CAP_PROP_BRIGHTNESS Brightness of the image (only for cameras).\n",
    "11. cv2.CAP_PROP_CONTRAST Contrast of the image (only for cameras).\n",
    "12. cv2.CAP_PROP_SATURATION Saturation of the image (only for cameras).\n",
    "13. cv2.CAP_PROP_HUE Hue of the image (only for cameras).\n",
    "14. cv2.CAP_PROP_GAIN Gain of the image (only for cameras).\n",
    "15. cv2.CAP_PROP_EXPOSURE Exposure (only for cameras).\n",
    "16. cv2.CAP_PROP_CONVERT_RGB Boolean flags indicating whether images should be converted to RGB.\n",
    "17. cv2.CAP_PROP_WHITE_BALANCE Currently unsupported\n",
    "18. cv2.CAP_PROP_RECTIFICATION Rectification flag for stereo cameras (note: only supported by DC1394 v 2.x backend currently)\n",
    "```"
   ],
   "metadata": {}
  },
  {
   "cell_type": "markdown",
   "source": [
    "- OpenCV fourcc video codec :\n",
    "```\n",
    "'DIVX' -> .avi \\\n",
    "'mp4' -> .mp4 \\\n",
    "'H264' -> .h264 \\\n",
    "etc.\n",
    "```"
   ],
   "metadata": {}
  },
  {
   "cell_type": "markdown",
   "source": [
    "___\n",
    "# OpenCV Drawing Tool\n",
    "\n",
    "- Draw a **line** by using the OpenCV function `cv2.line()`\n",
    "- Draw an **ellipse** by using the OpenCV function `cv2.ellipse()`\n",
    "- Draw a **rectangle** by using the OpenCV function `cv2.rectangle()`\n",
    "- Draw a **circle** by using the OpenCV function `cv2.circle()`\n",
    "- Draw a **filled polygon** by using the OpenCV function `cv2.fillPoly()`\n",
    "- Write a **text** by using the OpenCV function `cv2.putText()`"
   ],
   "metadata": {}
  },
  {
   "cell_type": "markdown",
   "source": [
    "# 6. Draw Line (`cv2.line()`)\n",
    "\n",
    "- Menggunakan method `cv2.line(img, (x0,y0), (xt,yt), (B, G, R), thickness, line_type)` \n",
    "- untuk :\n",
    "    - `img` : input image\n",
    "    - `(x0, y0)` : start point (tuple)\n",
    "    - `(xt, yt)` : end point (tuple)\n",
    "    - `(B, G, R)` : line color (tuple)\n",
    "    - `thickness` : line thickness \n",
    "    - `line_type` :\n",
    "        - `cv2.FILLED` : filled line\n",
    "        - `cv2.LINE_4` : 4-connected line\n",
    "        - `cv2.LINE_8` : 8-connected line\n",
    "        - `cv2.LINE_AA` : antialiased line"
   ],
   "metadata": {}
  },
  {
   "cell_type": "code",
   "execution_count": null,
   "source": [
    "background = np.zeros((400, 400, 3)).astype(np.uint8)\n",
    "\n",
    "#  horizontal line (red), y0 = yt\n",
    "cv2.line(background,\n",
    "         (100, 350),                \n",
    "         (300, 350),               \n",
    "         (50,0,255),              \n",
    "         3,\n",
    "         cv2.FILLED)                      \n",
    "\n",
    "# vertical line (green), x0 = xt\n",
    "cv2.line(background,\n",
    "         (50, 100),                \n",
    "         (50, 300),              \n",
    "         (25,255,0),               \n",
    "         20,\n",
    "         cv2.LINE_8)  \n",
    "\n",
    "# garis miring (pink)\n",
    "cv2.line(background,\n",
    "         (250, 300),                   \n",
    "         (230 ,100),              \n",
    "         (255,0,255),             \n",
    "         5,\n",
    "         cv2.LINE_4)  \n",
    "\n",
    "# garis miring (tosca)\n",
    "cv2.line(background,\n",
    "         (300, 300),                \n",
    "         (280, 100),              \n",
    "         (100,127,0),               \n",
    "         5,\n",
    "         cv2.LINE_AA) \n",
    "\n",
    "cv2.imshow(\"Draw Line\", background)\n",
    "cv2.waitKey(0)\n",
    "cv2.destroyAllWindows()"
   ],
   "outputs": [],
   "metadata": {}
  },
  {
   "cell_type": "markdown",
   "source": [
    "# 7. Draw Rectangle (`cv2.rectangle()`)\n",
    "\n",
    "\n",
    "- Menggunakan method `cv2.rectangle(img, (x0,y0), (xt,yt), (B, G, R), thickness, line_type)` \n",
    "- untuk :\n",
    "    - `img` : input image\n",
    "    - `(x0, y0)` : top-left-corner rectangle point (tuple)\n",
    "    - `(xt, yt)` : bottom-right-corner rectangle point (tuple)\n",
    "    - `(B, G, R)` : rectangle color (tuple)\n",
    "    - `thickness` : rectangle thickness (if negative, color will be user as fillcolor)\n",
    "    - `line_type` :\n",
    "        - `cv2.FILLED` : filled line\n",
    "        - `cv2.LINE_4` : 4-connected line\n",
    "        - `cv2.LINE_8` : 8-connected line\n",
    "        - `cv2.LINE_AA` : antialiased line"
   ],
   "metadata": {}
  },
  {
   "cell_type": "code",
   "execution_count": null,
   "source": [
    "background = np.zeros((400, 400, 3)).astype(np.uint8)\n",
    "\n",
    "# outline color\n",
    "cv2.rectangle(background,\n",
    "              (15,25),    \n",
    "              (200,150),  \n",
    "              (0,0,255), \n",
    "              5)          \n",
    "\n",
    "# fill color\n",
    "cv2.rectangle(background,\n",
    "              (210,50),   \n",
    "              (270,270),  \n",
    "              (0,200,255),\n",
    "              -1,\n",
    "               cv2.LINE_AA)           \n",
    "\n",
    "cv2.imshow(\"Draw Rectangle\", background)\n",
    "\n",
    "cv2.waitKey(0)\n",
    "cv2.destroyAllWindows()"
   ],
   "outputs": [],
   "metadata": {}
  },
  {
   "cell_type": "markdown",
   "source": [
    "# 8. Draw Circle (`cv2.circle()`)\n",
    "\n",
    "\n",
    "- Menggunakan method `cv2.circle(img, (x,y), radius, (B, G, R), thickness, line_type)` \n",
    "- untuk :\n",
    "    - `img` : input image\n",
    "    - `(x, y)` : circle center point (tuple)\n",
    "    - `radius` : circle radius (in pixel)\n",
    "    - `(B, G, R)` : circle color (tuple)\n",
    "    - `thickness` : circle thickness  (if negative, color will be user as fillcolor)\n",
    "    - `line_type` :\n",
    "        - `cv2.FILLED` : filled line\n",
    "        - `cv2.LINE_4` : 4-connected line\n",
    "        - `cv2.LINE_8` : 8-connected line\n",
    "        - `cv2.LINE_AA` : antialiased line"
   ],
   "metadata": {}
  },
  {
   "cell_type": "code",
   "execution_count": null,
   "source": [
    "img = cv2.imread(\"lena.jpg\")\n",
    "\n",
    "# circle outline\n",
    "cv2.circle(img,\n",
    "           (65, 65),         \n",
    "           55,               \n",
    "           (0,255,150),      \n",
    "           2,\n",
    "           cv2.LINE_AA)                \n",
    "\n",
    "# circle fill\n",
    "cv2.circle(img,\n",
    "           (65, 250),         \n",
    "           55,                \n",
    "           (0,50,250),       \n",
    "           -1,\n",
    "           cv2.LINE_AA)                \n",
    "                             \n",
    "    \n",
    "cv2.imshow(\"Draw Circle\", img)\n",
    "\n",
    "cv2.waitKey(0)\n",
    "cv2.destroyAllWindows()"
   ],
   "outputs": [],
   "metadata": {}
  },
  {
   "cell_type": "markdown",
   "source": [
    "# 9. Write Text (`cv2.putText()`)\n",
    "\n",
    "\n",
    "- Menggunakan method `cv2.putText(img, text, (x,y), font_type, font_scale, (B, G, R), thickness, line_type)` \n",
    "- untuk :\n",
    "    - `img` : input image\n",
    "    - `text` : string to write in image \n",
    "    - `(x, y)` : start-left position of text (tuple)\n",
    "    - `font_type` : \n",
    "        - `cv2.FONT_HERSHEY_SIMPLEX` : size sans-serif font\n",
    "        - `cv2.FONT_HERSHEY_PLAIN` : small size sans-serif font\n",
    "        - `cv2.FONT_HERSHEY_DUPLEX` : normal size sans-serif font (more complex than FONT_HERSHEY_SIMPLEX)\n",
    "        - `cv2.FONT_HERSHEY_COMPLEX` : normal size serif font\n",
    "        - `cv2.FONT_HERSHEY_TRIPLEX` : normal size serif font (more complex than FONT_HERSHEY_COMPLEX)\n",
    "        - `cv2.FONT_HERSHEY_COMPLEX_SMALL` : smaller version of FONT_HERSHEY_COMPLEX\n",
    "        - `cv2.FONT_HERSHEY_SCRIPT_SIMPLEX` : hand-writing style font\n",
    "        - `cv2.FONT_HERSHEY_SCRIPT_COMPLEX` : more complex variant of FONT_HERSHEY_SCRIPT_SIMPLEX\n",
    "        - `cv2.FONT_ITALIC` : flag for italic font\n",
    "    - `(B, G, R)` : circle color (tuple)\n",
    "    - `thickness` : circle thickness  (if negative, color will be user as fillcolor)\n",
    "    - `line_type` :\n",
    "        - `cv2.FILLED` : filled line\n",
    "        - `cv2.LINE_4` : 4-connected line\n",
    "        - `cv2.LINE_8` : 8-connected line\n",
    "        - `cv2.LINE_AA` : antialiased line"
   ],
   "metadata": {}
  },
  {
   "cell_type": "code",
   "execution_count": null,
   "source": [
    "A = [1, 2, 3, 4]\n",
    "B = ['A', 'B', 'C', 'D']\n",
    "\n",
    "C = zip(A, B)\n",
    "print(list(C))"
   ],
   "outputs": [],
   "metadata": {}
  },
  {
   "cell_type": "code",
   "execution_count": null,
   "source": [
    "background = np.zeros((200, 600, 3)).astype(np.uint8)\n",
    "h, w, c = background.shape\n",
    "\n",
    "font_types = [cv2.FONT_HERSHEY_SIMPLEX,\n",
    "            cv2.FONT_HERSHEY_PLAIN,\n",
    "            cv2.FONT_HERSHEY_DUPLEX,\n",
    "            cv2.FONT_HERSHEY_COMPLEX,\n",
    "            cv2.FONT_HERSHEY_TRIPLEX,\n",
    "            cv2.FONT_HERSHEY_COMPLEX_SMALL,\n",
    "            cv2.FONT_HERSHEY_SCRIPT_SIMPLEX,\n",
    "            cv2.FONT_HERSHEY_SCRIPT_COMPLEX,\n",
    "            cv2.FONT_ITALIC ]\n",
    "\n",
    "texts      = ['FONT HERSHEY SIMPLEX',\n",
    "            'FONT HERSHEY PLAIN',\n",
    "            'FONT HERSHEY DUPLEX',\n",
    "            'FONT HERSHEY COMPLEX',\n",
    "            'FONT HERSHEY TRIPLEX',\n",
    "            'FONT HERSHEY COMPLEX SMALL',\n",
    "            'FONT HERSHEY SCRIPT SIMPLEX',\n",
    "            'FONT HERSHEY SCRIPT COMPLEX',\n",
    "            'FONT ITALIC' ]\n",
    "\n",
    "for text, font_type in zip(texts, font_types):\n",
    "    frame = background.copy()\n",
    "    cv2.putText(frame, \n",
    "                text, \n",
    "                (50, 50), \t                   \n",
    "                font_type,     \n",
    "                0.9,                          \n",
    "                (0, 255, 127),                \n",
    "                1,\n",
    "                cv2.LINE_AA)      \n",
    "    cv2.imshow(\"Write Text\", frame)\n",
    "    cv2.waitKey(2000) #delay 2 second\n",
    "    \n",
    "cv2.destroyAllWindows()"
   ],
   "outputs": [],
   "metadata": {}
  },
  {
   "cell_type": "markdown",
   "source": [
    "# 10 Draw Polygon"
   ],
   "metadata": {}
  },
  {
   "cell_type": "markdown",
   "source": [
    "- method `cv2.fillPoly(img, pts, color, line_type, shift_number, offset)`\n",
    "    - `img` : input image array \n",
    "    - `pts` : Array of polygons where each polygon is represented as an array of points.\n",
    "    - `color` : polygon color (B, G, R)\n",
    "    - `line_type` :\n",
    "        - `cv2.FILLED` : filled line\n",
    "        - `cv2.LINE_4` : 4-connected line\n",
    "        - `cv2.LINE_8` : 8-connected line\n",
    "        - `cv2.LINE_AA` : antialiased line\n",
    "    - `shift_number` : fractional bits in the vertex coordinate.\n",
    "    - `offset` : offset of all points of the contours.\n"
   ],
   "metadata": {}
  },
  {
   "cell_type": "code",
   "execution_count": null,
   "source": [
    "import cv2\n",
    "import numpy as np\n",
    "contours = np.array([[50,50], \n",
    "                    [50,150], \n",
    "                    [150,180], \n",
    "                    [150,40]])\n",
    "                    \n",
    "image = np.zeros((200,200))\n",
    "\n",
    "cv2.fillPoly(image, pts = [contours], color =(255,255,255))\n",
    "\n",
    "cv2.imshow(\"filledPolygon\", image)\n",
    "cv2.waitKey(0)\n",
    "cv2.destroyAllWindows()"
   ],
   "outputs": [],
   "metadata": {}
  }
 ],
 "metadata": {
  "orig_nbformat": 4,
  "language_info": {
   "name": "python",
   "version": "3.6.9",
   "mimetype": "text/x-python",
   "codemirror_mode": {
    "name": "ipython",
    "version": 3
   },
   "pygments_lexer": "ipython3",
   "nbconvert_exporter": "python",
   "file_extension": ".py"
  },
  "kernelspec": {
   "name": "python3",
   "display_name": "Python 3.6.9 64-bit"
  },
  "interpreter": {
   "hash": "31f2aee4e71d21fbe5cf8b01ff0e069b9275f58929596ceb00d14d90e3e16cd6"
  }
 },
 "nbformat": 4,
 "nbformat_minor": 2
}