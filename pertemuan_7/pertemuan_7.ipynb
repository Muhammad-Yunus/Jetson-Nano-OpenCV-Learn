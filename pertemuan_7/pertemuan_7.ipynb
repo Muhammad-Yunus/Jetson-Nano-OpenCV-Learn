{
 "cells": [
  {
   "cell_type": "markdown",
   "source": [
    "# Pertemuan 7\n",
    "\n",
    "- 1. Basic Morphological Transform (Eroding & Dilating)\n",
    "- 2. Advance Morphological Transform (Opening, Closing, & Morphological Gradient)\n",
    "- 3. CUDA Implementation\n",
    "\n",
    "___\n",
    "### Maximizing Jetson Nano Perfomance"
   ],
   "metadata": {}
  },
  {
   "cell_type": "code",
   "execution_count": null,
   "source": [
    "# sudo nvpmodel -m 0\n",
    "# sudo jetson_clocks"
   ],
   "outputs": [],
   "metadata": {}
  },
  {
   "cell_type": "code",
   "execution_count": 1,
   "source": [
    "import cv2\n",
    "import matplotlib.pyplot as plt\n",
    "import numpy as np"
   ],
   "outputs": [],
   "metadata": {}
  },
  {
   "cell_type": "code",
   "execution_count": 2,
   "source": [
    "# check OpenCV Version\n",
    "\n",
    "cv2.__version__"
   ],
   "outputs": [
    {
     "output_type": "execute_result",
     "data": {
      "text/plain": [
       "'4.5.3'"
      ]
     },
     "metadata": {},
     "execution_count": 2
    }
   ],
   "metadata": {}
  },
  {
   "cell_type": "markdown",
   "source": [
    "___\n",
    "# 1. Basic Morphological Transform (Eroding & Dilating)\n",
    "\n",
    "- A set of operations that process images based on shapes. \n",
    "- Morphological operations apply a structuring element to an input image and generate an output image.\n",
    "- Usecase :\n",
    "    - Removing noise\n",
    "    - Isolation of individual elements and joining disparate elements in an image.\n",
    "    - Finding of intensity bumps or holes in an image\n",
    "\n",
    "## 1.1 Dilating\n",
    "- This operations consists of convolving an image $A$ with some **kernel** ($B$), which can have any shape or size, usually a **square** or **circle**.\n",
    "- The kernel $B$ has a defined **anchor point**, usually being the center of the kernel.\n",
    "- As the kernel $B$ is scanned over the image, we compute the maximal pixel value overlapped by $B$ and **replace** the image pixel in the **anchor point** position with that **maximal value**. \n",
    "- This maximizing operation causes **bright regions** within an image to **\"grow\"** (therefore the name dilation). <br>\n",
    "<img src=\"resource/Original_Image.png\" style=\"width:100px; margin-top:10px;\"></img>\n",
    "<img src=\"resource/Dilation.png\" style=\"width:100px; margin-top:10px;\"></img> <br>\n",
    "<span style=\"width:100px; padding:5px;\">Original Image</span>\n",
    "<span style=\"width:100px; padding:5px;\">Dilation Image</span>\n",
    "- Dilation function `cv2.dilate(img, kernel, anchor, iterations)`\n",
    "- Where :\n",
    "    - `img` : Input image\n",
    "    - `kernel` : kernel matrix (ndarray), created using `np.ones()` or `cv2.getStructuringElement()` \n",
    "    - `anchor` : Evaluated pixel value on the kernel position, default (-1, -1) as Center of kernel.\n",
    "    - `iterations` : Number of times dilation aplied to input image.\n",
    "    \n",
    "## 1.2 Eroding\n",
    "- This operation  computes a **local minimum** over the area of given kernel.\n",
    "- As the kernel $B$ is scanned over the image, we compute the minimal pixel value overlapped by $B$ and replace the image pixel under the **anchor point** with that **minimal value**.<br>\n",
    "<img src=\"resource/Original_Image.png\" style=\"width:100px; margin-top:10px;\"></img>\n",
    "<img src=\"resource/Erosion.png\" style=\"width:100px; margin-top:10px;\"></img> <br>\n",
    "<span style=\"width:100px; padding:5px;\">Original Image</span>\n",
    "<span style=\"width:100px; padding:5px;\">Erosion Image</span>\n",
    "- Eroding function `cv2.erode(img, kernel, anchor, iterations)`\n",
    "- Where :\n",
    "    - `img` : Input image\n",
    "    - `kernel` : kernel matrix (ndarray), created using `np.ones()` or `cv2.getStructuringElement()` \n",
    "    - `anchor` : Evaluated pixel value on the kernel position, default (-1, -1) as Center of kernel.\n",
    "    - `iterations` : Number of times erotion aplied to input image."
   ],
   "metadata": {}
  },
  {
   "cell_type": "markdown",
   "source": [
    "___\n",
    "## EXAMPLE 1 : Dilation"
   ],
   "metadata": {}
  },
  {
   "cell_type": "code",
   "execution_count": 3,
   "source": [
    "# Create Black Image with two circel\n",
    "\n",
    "frame = np.zeros((20,20),np.uint8)\n",
    "cv2.circle(frame, (5,5), 3, (255,255,255), -1, cv2.LINE_AA)\n",
    "cv2.circle(frame, (14,14), 3, (255,255,255), -1, cv2.LINE_AA)\n",
    "\n",
    "plt.imshow(frame, cmap=\"gray\")"
   ],
   "outputs": [
    {
     "output_type": "execute_result",
     "data": {
      "text/plain": [
       "<matplotlib.image.AxesImage at 0x7f4e246550>"
      ]
     },
     "metadata": {},
     "execution_count": 3
    },
    {
     "output_type": "display_data",
     "data": {
      "text/plain": [
       "<matplotlib.figure.Figure at 0x7f4f263ba8>"
      ],
      "image/svg+xml": "<?xml version=\"1.0\" encoding=\"utf-8\" standalone=\"no\"?>\n<!DOCTYPE svg PUBLIC \"-//W3C//DTD SVG 1.1//EN\"\n  \"http://www.w3.org/Graphics/SVG/1.1/DTD/svg11.dtd\">\n<!-- Created with matplotlib (http://matplotlib.org/) -->\n<svg height=\"252pt\" version=\"1.1\" viewBox=\"0 0 264 252\" width=\"264pt\" xmlns=\"http://www.w3.org/2000/svg\" xmlns:xlink=\"http://www.w3.org/1999/xlink\">\n <defs>\n  <style type=\"text/css\">\n*{stroke-linecap:butt;stroke-linejoin:round;}\n  </style>\n </defs>\n <g id=\"figure_1\">\n  <g id=\"patch_1\">\n   <path d=\"M 0 252.018125 \nL 264.605625 252.018125 \nL 264.605625 0 \nL 0 0 \nz\n\" style=\"fill:none;\"/>\n  </g>\n  <g id=\"axes_1\">\n   <g id=\"patch_2\">\n    <path d=\"M 36.465625 228.14 \nL 253.905625 228.14 \nL 253.905625 10.7 \nL 36.465625 10.7 \nz\n\" style=\"fill:#ffffff;\"/>\n   </g>\n   <g clip-path=\"url(#p30ecec9723)\">\n    <image height=\"218\" id=\"image68c8fbdf52\" transform=\"scale(1 -1)translate(0 -218)\" width=\"218\" x=\"36.465625\" xlink:href=\"data:image/png;base64,\niVBORw0KGgoAAAANSUhEUgAAANoAAADaCAYAAADAHVzbAAAABHNCSVQICAgIfAhkiAAABFNJREFUeJzt3U1KY1sUgNFUUV3jLBLnog0zB4ljMk4ioHPxZxgBsVmv8XjV9dyC+8XkrdXehE3g43QO9/xYLBa/F8Csfh57Afg/EBoEhAYBoUFAaBAQGgSEBgGhQUBoEBAaBH4dewFO03K5HJ69uroamnt9fR3+zcPhMDz7HTjRICA0CAgNAkKDgNAgIDQICA0CQoOA0CAgNAi4gsUfNzc3w7NPT08zbvK1zWYzPLvf72fcZIwTDQJCg4DQICA0CAgNAkKDgNAgIDQICA0CQoPAj4WHCM/adrsdnn14eJhxk+O5v78fnt3tdrPs4ESDgNAgIDQICA0CQoOA0CAgNAgIDQJCg4DQIOAK1glar9fDs1O+ADX6YOCpmfLA4e3t7fDs29vb8KwTDQJCg4DQICA0CAgNAkKDgNAgIDQICA0CQoOAhwhP0MXFxfDsuV6rmmLKf3B5eTnLDk40CAgNAkKDgNAgIDQICA0CQoOA0CAgNAi4GXKCPj8/h2enfJjmXG+RvLy8DM9+fHzMsoMTDQJCg4DQICA0CAgNAkKDgNAgIDQICA0CQoOA99HO3N3d3fDs4+PjjJscz3a7HZ6d6z9wokFAaBAQGgSEBgGhQUBoEBAaBIQGAaFBQGgQcAWLP66vr4dnn5+fZ9zka5vNZnh2v9/PuMkYJxoEhAYBoUFAaBAQGgSEBgGhQUBoEBAaBIQGAVew+CvL5XJ4drVaDc29v78P/+bhcBie/Q6caBAQGgSEBgGhQUBoEBAaBIQGAaFBQGgQEBoETu4K1ujVn6urq+HffH19HZ49tas/fA9ONAgIDQJCg4DQICA0CAgNAkKDgNAgIDQICA0Cv469wGKxWNzc3AzPPj09zbjJ107tATy+BycaBIQGAaFBQGgQEBoEhAYBoUFAaBAQGgSEBoHZvoK13W6HZx8eHuZY4eju7++HZ3e73YybcGxONAgIDQJCg4DQICA0CAgNAkKDgNAgIDQICA0Ck65grdfr4R+e8gWoKY8GnpIpDxze3t4Oz769vf3NOhyREw0CQoOA0CAgNAgIDQJCg4DQICA0CAgNAkKDwKSHCC8uLoZnz/Va1RRT/oPLy8sZN+HYnGgQEBoEhAYBoUFAaBAQGgSEBgGhQUBoEBAaBCZdwfr8/ByenfIFqHO9rvXy8jI8+/HxMeMmHJsTDQJCg4DQICA0CAgNAkKDgNAgIDQICA0Ck95Hm+Lu7m549vHxcY4Vjm673Q7Pnut/wL+caBAQGgSEBgGhQUBoEBAaBIQGAaFBQGgQEBoEZruCNcX19fXw7PPz84ybfG2z2QzP7vf7GTfhlDjRICA0CAgNAkKDgNAgIDQICA0CQoOA0CAgNAh8iytYUyyXy6G51Wo1/Jvv7+/Ds4fDYXgW/uNEg4DQICA0CAgNAkKDgNAgIDQICA0CQoOA0CBwclew4BQ50SAgNAgIDQJCg4DQICA0CAgNAkKDgNAgIDQI/ANLOIHDj5G+egAAAABJRU5ErkJggg==\" y=\"-10.14\"/>\n   </g>\n   <g id=\"matplotlib.axis_1\">\n    <g id=\"xtick_1\">\n     <g id=\"line2d_1\">\n      <defs>\n       <path d=\"M 0 0 \nL 0 3.5 \n\" id=\"m888a94ddf7\" style=\"stroke:#000000;stroke-width:0.8;\"/>\n      </defs>\n      <g>\n       <use style=\"stroke:#000000;stroke-width:0.8;\" x=\"41.901625\" xlink:href=\"#m888a94ddf7\" y=\"228.14\"/>\n      </g>\n     </g>\n     <g id=\"text_1\">\n      <!-- 0 -->\n      <defs>\n       <path d=\"M 31.78125 66.40625 \nQ 24.171875 66.40625 20.328125 58.90625 \nQ 16.5 51.421875 16.5 36.375 \nQ 16.5 21.390625 20.328125 13.890625 \nQ 24.171875 6.390625 31.78125 6.390625 \nQ 39.453125 6.390625 43.28125 13.890625 \nQ 47.125 21.390625 47.125 36.375 \nQ 47.125 51.421875 43.28125 58.90625 \nQ 39.453125 66.40625 31.78125 66.40625 \nz\nM 31.78125 74.21875 \nQ 44.046875 74.21875 50.515625 64.515625 \nQ 56.984375 54.828125 56.984375 36.375 \nQ 56.984375 17.96875 50.515625 8.265625 \nQ 44.046875 -1.421875 31.78125 -1.421875 \nQ 19.53125 -1.421875 13.0625 8.265625 \nQ 6.59375 17.96875 6.59375 36.375 \nQ 6.59375 54.828125 13.0625 64.515625 \nQ 19.53125 74.21875 31.78125 74.21875 \nz\n\" id=\"DejaVuSans-30\"/>\n      </defs>\n      <g transform=\"translate(38.720375 242.738437)scale(0.1 -0.1)\">\n       <use xlink:href=\"#DejaVuSans-30\"/>\n      </g>\n     </g>\n    </g>\n    <g id=\"xtick_2\">\n     <g id=\"line2d_2\">\n      <g>\n       <use style=\"stroke:#000000;stroke-width:0.8;\" x=\"96.261625\" xlink:href=\"#m888a94ddf7\" y=\"228.14\"/>\n      </g>\n     </g>\n     <g id=\"text_2\">\n      <!-- 5 -->\n      <defs>\n       <path d=\"M 10.796875 72.90625 \nL 49.515625 72.90625 \nL 49.515625 64.59375 \nL 19.828125 64.59375 \nL 19.828125 46.734375 \nQ 21.96875 47.46875 24.109375 47.828125 \nQ 26.265625 48.1875 28.421875 48.1875 \nQ 40.625 48.1875 47.75 41.5 \nQ 54.890625 34.8125 54.890625 23.390625 \nQ 54.890625 11.625 47.5625 5.09375 \nQ 40.234375 -1.421875 26.90625 -1.421875 \nQ 22.3125 -1.421875 17.546875 -0.640625 \nQ 12.796875 0.140625 7.71875 1.703125 \nL 7.71875 11.625 \nQ 12.109375 9.234375 16.796875 8.0625 \nQ 21.484375 6.890625 26.703125 6.890625 \nQ 35.15625 6.890625 40.078125 11.328125 \nQ 45.015625 15.765625 45.015625 23.390625 \nQ 45.015625 31 40.078125 35.4375 \nQ 35.15625 39.890625 26.703125 39.890625 \nQ 22.75 39.890625 18.8125 39.015625 \nQ 14.890625 38.140625 10.796875 36.28125 \nz\n\" id=\"DejaVuSans-35\"/>\n      </defs>\n      <g transform=\"translate(93.080375 242.738437)scale(0.1 -0.1)\">\n       <use xlink:href=\"#DejaVuSans-35\"/>\n      </g>\n     </g>\n    </g>\n    <g id=\"xtick_3\">\n     <g id=\"line2d_3\">\n      <g>\n       <use style=\"stroke:#000000;stroke-width:0.8;\" x=\"150.621625\" xlink:href=\"#m888a94ddf7\" y=\"228.14\"/>\n      </g>\n     </g>\n     <g id=\"text_3\">\n      <!-- 10 -->\n      <defs>\n       <path d=\"M 12.40625 8.296875 \nL 28.515625 8.296875 \nL 28.515625 63.921875 \nL 10.984375 60.40625 \nL 10.984375 69.390625 \nL 28.421875 72.90625 \nL 38.28125 72.90625 \nL 38.28125 8.296875 \nL 54.390625 8.296875 \nL 54.390625 0 \nL 12.40625 0 \nz\n\" id=\"DejaVuSans-31\"/>\n      </defs>\n      <g transform=\"translate(144.259125 242.738437)scale(0.1 -0.1)\">\n       <use xlink:href=\"#DejaVuSans-31\"/>\n       <use x=\"63.623047\" xlink:href=\"#DejaVuSans-30\"/>\n      </g>\n     </g>\n    </g>\n    <g id=\"xtick_4\">\n     <g id=\"line2d_4\">\n      <g>\n       <use style=\"stroke:#000000;stroke-width:0.8;\" x=\"204.981625\" xlink:href=\"#m888a94ddf7\" y=\"228.14\"/>\n      </g>\n     </g>\n     <g id=\"text_4\">\n      <!-- 15 -->\n      <g transform=\"translate(198.619125 242.738437)scale(0.1 -0.1)\">\n       <use xlink:href=\"#DejaVuSans-31\"/>\n       <use x=\"63.623047\" xlink:href=\"#DejaVuSans-35\"/>\n      </g>\n     </g>\n    </g>\n   </g>\n   <g id=\"matplotlib.axis_2\">\n    <g id=\"ytick_1\">\n     <g id=\"line2d_5\">\n      <defs>\n       <path d=\"M 0 0 \nL -3.5 0 \n\" id=\"m030ceb5796\" style=\"stroke:#000000;stroke-width:0.8;\"/>\n      </defs>\n      <g>\n       <use style=\"stroke:#000000;stroke-width:0.8;\" x=\"36.465625\" xlink:href=\"#m030ceb5796\" y=\"16.136\"/>\n      </g>\n     </g>\n     <g id=\"text_5\">\n      <!-- 0.0 -->\n      <defs>\n       <path d=\"M 10.6875 12.40625 \nL 21 12.40625 \nL 21 0 \nL 10.6875 0 \nz\n\" id=\"DejaVuSans-2e\"/>\n      </defs>\n      <g transform=\"translate(13.5625 19.935219)scale(0.1 -0.1)\">\n       <use xlink:href=\"#DejaVuSans-30\"/>\n       <use x=\"63.623047\" xlink:href=\"#DejaVuSans-2e\"/>\n       <use x=\"95.410156\" xlink:href=\"#DejaVuSans-30\"/>\n      </g>\n     </g>\n    </g>\n    <g id=\"ytick_2\">\n     <g id=\"line2d_6\">\n      <g>\n       <use style=\"stroke:#000000;stroke-width:0.8;\" x=\"36.465625\" xlink:href=\"#m030ceb5796\" y=\"43.316\"/>\n      </g>\n     </g>\n     <g id=\"text_6\">\n      <!-- 2.5 -->\n      <defs>\n       <path d=\"M 19.1875 8.296875 \nL 53.609375 8.296875 \nL 53.609375 0 \nL 7.328125 0 \nL 7.328125 8.296875 \nQ 12.9375 14.109375 22.625 23.890625 \nQ 32.328125 33.6875 34.8125 36.53125 \nQ 39.546875 41.84375 41.421875 45.53125 \nQ 43.3125 49.21875 43.3125 52.78125 \nQ 43.3125 58.59375 39.234375 62.25 \nQ 35.15625 65.921875 28.609375 65.921875 \nQ 23.96875 65.921875 18.8125 64.3125 \nQ 13.671875 62.703125 7.8125 59.421875 \nL 7.8125 69.390625 \nQ 13.765625 71.78125 18.9375 73 \nQ 24.125 74.21875 28.421875 74.21875 \nQ 39.75 74.21875 46.484375 68.546875 \nQ 53.21875 62.890625 53.21875 53.421875 \nQ 53.21875 48.921875 51.53125 44.890625 \nQ 49.859375 40.875 45.40625 35.40625 \nQ 44.1875 33.984375 37.640625 27.21875 \nQ 31.109375 20.453125 19.1875 8.296875 \nz\n\" id=\"DejaVuSans-32\"/>\n      </defs>\n      <g transform=\"translate(13.5625 47.115219)scale(0.1 -0.1)\">\n       <use xlink:href=\"#DejaVuSans-32\"/>\n       <use x=\"63.623047\" xlink:href=\"#DejaVuSans-2e\"/>\n       <use x=\"95.410156\" xlink:href=\"#DejaVuSans-35\"/>\n      </g>\n     </g>\n    </g>\n    <g id=\"ytick_3\">\n     <g id=\"line2d_7\">\n      <g>\n       <use style=\"stroke:#000000;stroke-width:0.8;\" x=\"36.465625\" xlink:href=\"#m030ceb5796\" y=\"70.496\"/>\n      </g>\n     </g>\n     <g id=\"text_7\">\n      <!-- 5.0 -->\n      <g transform=\"translate(13.5625 74.295219)scale(0.1 -0.1)\">\n       <use xlink:href=\"#DejaVuSans-35\"/>\n       <use x=\"63.623047\" xlink:href=\"#DejaVuSans-2e\"/>\n       <use x=\"95.410156\" xlink:href=\"#DejaVuSans-30\"/>\n      </g>\n     </g>\n    </g>\n    <g id=\"ytick_4\">\n     <g id=\"line2d_8\">\n      <g>\n       <use style=\"stroke:#000000;stroke-width:0.8;\" x=\"36.465625\" xlink:href=\"#m030ceb5796\" y=\"97.676\"/>\n      </g>\n     </g>\n     <g id=\"text_8\">\n      <!-- 7.5 -->\n      <defs>\n       <path d=\"M 8.203125 72.90625 \nL 55.078125 72.90625 \nL 55.078125 68.703125 \nL 28.609375 0 \nL 18.3125 0 \nL 43.21875 64.59375 \nL 8.203125 64.59375 \nz\n\" id=\"DejaVuSans-37\"/>\n      </defs>\n      <g transform=\"translate(13.5625 101.475219)scale(0.1 -0.1)\">\n       <use xlink:href=\"#DejaVuSans-37\"/>\n       <use x=\"63.623047\" xlink:href=\"#DejaVuSans-2e\"/>\n       <use x=\"95.410156\" xlink:href=\"#DejaVuSans-35\"/>\n      </g>\n     </g>\n    </g>\n    <g id=\"ytick_5\">\n     <g id=\"line2d_9\">\n      <g>\n       <use style=\"stroke:#000000;stroke-width:0.8;\" x=\"36.465625\" xlink:href=\"#m030ceb5796\" y=\"124.856\"/>\n      </g>\n     </g>\n     <g id=\"text_9\">\n      <!-- 10.0 -->\n      <g transform=\"translate(7.2 128.655219)scale(0.1 -0.1)\">\n       <use xlink:href=\"#DejaVuSans-31\"/>\n       <use x=\"63.623047\" xlink:href=\"#DejaVuSans-30\"/>\n       <use x=\"127.246094\" xlink:href=\"#DejaVuSans-2e\"/>\n       <use x=\"159.033203\" xlink:href=\"#DejaVuSans-30\"/>\n      </g>\n     </g>\n    </g>\n    <g id=\"ytick_6\">\n     <g id=\"line2d_10\">\n      <g>\n       <use style=\"stroke:#000000;stroke-width:0.8;\" x=\"36.465625\" xlink:href=\"#m030ceb5796\" y=\"152.036\"/>\n      </g>\n     </g>\n     <g id=\"text_10\">\n      <!-- 12.5 -->\n      <g transform=\"translate(7.2 155.835219)scale(0.1 -0.1)\">\n       <use xlink:href=\"#DejaVuSans-31\"/>\n       <use x=\"63.623047\" xlink:href=\"#DejaVuSans-32\"/>\n       <use x=\"127.246094\" xlink:href=\"#DejaVuSans-2e\"/>\n       <use x=\"159.033203\" xlink:href=\"#DejaVuSans-35\"/>\n      </g>\n     </g>\n    </g>\n    <g id=\"ytick_7\">\n     <g id=\"line2d_11\">\n      <g>\n       <use style=\"stroke:#000000;stroke-width:0.8;\" x=\"36.465625\" xlink:href=\"#m030ceb5796\" y=\"179.216\"/>\n      </g>\n     </g>\n     <g id=\"text_11\">\n      <!-- 15.0 -->\n      <g transform=\"translate(7.2 183.015219)scale(0.1 -0.1)\">\n       <use xlink:href=\"#DejaVuSans-31\"/>\n       <use x=\"63.623047\" xlink:href=\"#DejaVuSans-35\"/>\n       <use x=\"127.246094\" xlink:href=\"#DejaVuSans-2e\"/>\n       <use x=\"159.033203\" xlink:href=\"#DejaVuSans-30\"/>\n      </g>\n     </g>\n    </g>\n    <g id=\"ytick_8\">\n     <g id=\"line2d_12\">\n      <g>\n       <use style=\"stroke:#000000;stroke-width:0.8;\" x=\"36.465625\" xlink:href=\"#m030ceb5796\" y=\"206.396\"/>\n      </g>\n     </g>\n     <g id=\"text_12\">\n      <!-- 17.5 -->\n      <g transform=\"translate(7.2 210.195219)scale(0.1 -0.1)\">\n       <use xlink:href=\"#DejaVuSans-31\"/>\n       <use x=\"63.623047\" xlink:href=\"#DejaVuSans-37\"/>\n       <use x=\"127.246094\" xlink:href=\"#DejaVuSans-2e\"/>\n       <use x=\"159.033203\" xlink:href=\"#DejaVuSans-35\"/>\n      </g>\n     </g>\n    </g>\n   </g>\n   <g id=\"patch_3\">\n    <path d=\"M 36.465625 228.14 \nL 36.465625 10.7 \n\" style=\"fill:none;stroke:#000000;stroke-linecap:square;stroke-linejoin:miter;stroke-width:0.8;\"/>\n   </g>\n   <g id=\"patch_4\">\n    <path d=\"M 253.905625 228.14 \nL 253.905625 10.7 \n\" style=\"fill:none;stroke:#000000;stroke-linecap:square;stroke-linejoin:miter;stroke-width:0.8;\"/>\n   </g>\n   <g id=\"patch_5\">\n    <path d=\"M 36.465625 228.14 \nL 253.905625 228.14 \n\" style=\"fill:none;stroke:#000000;stroke-linecap:square;stroke-linejoin:miter;stroke-width:0.8;\"/>\n   </g>\n   <g id=\"patch_6\">\n    <path d=\"M 36.465625 10.7 \nL 253.905625 10.7 \n\" style=\"fill:none;stroke:#000000;stroke-linecap:square;stroke-linejoin:miter;stroke-width:0.8;\"/>\n   </g>\n  </g>\n </g>\n <defs>\n  <clipPath id=\"p30ecec9723\">\n   <rect height=\"217.44\" width=\"217.44\" x=\"36.465625\" y=\"10.7\"/>\n  </clipPath>\n </defs>\n</svg>\n",
      "image/png": "[encoded data removed]"
     },
     "metadata": {
      "needs_background": "light"
     }
    }
   ],
   "metadata": {}
  },
  {
   "cell_type": "code",
   "execution_count": 13,
   "source": [
    "# Create square kernel 3x3 with all value element = 1\n",
    "\n",
    "kernel = np.ones((3,3),np.uint8)\n",
    "print(kernel)"
   ],
   "outputs": [
    {
     "output_type": "stream",
     "name": "stdout",
     "text": [
      "[[1 1 1]\n",
      " [1 1 1]\n",
      " [1 1 1]]\n"
     ]
    }
   ],
   "metadata": {}
  },
  {
   "cell_type": "code",
   "execution_count": 15,
   "source": [
    "# Apply dilation to black with 2 circle image above using previously created kernel \n",
    "dilate = cv2.dilate(frame.copy(), kernel, iterations = 4)\n",
    "\n",
    "plt.imshow(dilate, cmap=\"gray\")"
   ],
   "outputs": [
    {
     "output_type": "execute_result",
     "data": {
      "text/plain": [
       "<matplotlib.image.AxesImage at 0x7f4dec2b00>"
      ]
     },
     "metadata": {},
     "execution_count": 15
    },
    {
     "output_type": "display_data",
     "data": {
      "text/plain": [
       "<matplotlib.figure.Figure at 0x7f4df38940>"
      ],
      "image/svg+xml": "<?xml version=\"1.0\" encoding=\"utf-8\" standalone=\"no\"?>\n<!DOCTYPE svg PUBLIC \"-//W3C//DTD SVG 1.1//EN\"\n  \"http://www.w3.org/Graphics/SVG/1.1/DTD/svg11.dtd\">\n<!-- Created with matplotlib (http://matplotlib.org/) -->\n<svg height=\"252pt\" version=\"1.1\" viewBox=\"0 0 264 252\" width=\"264pt\" xmlns=\"http://www.w3.org/2000/svg\" xmlns:xlink=\"http://www.w3.org/1999/xlink\">\n <defs>\n  <style type=\"text/css\">\n*{stroke-linecap:butt;stroke-linejoin:round;}\n  </style>\n </defs>\n <g id=\"figure_1\">\n  <g id=\"patch_1\">\n   <path d=\"M 0 252.018125 \nL 264.605625 252.018125 \nL 264.605625 0 \nL 0 0 \nz\n\" style=\"fill:none;\"/>\n  </g>\n  <g id=\"axes_1\">\n   <g id=\"patch_2\">\n    <path d=\"M 36.465625 228.14 \nL 253.905625 228.14 \nL 253.905625 10.7 \nL 36.465625 10.7 \nz\n\" style=\"fill:#ffffff;\"/>\n   </g>\n   <g clip-path=\"url(#paadf472171)\">\n    <image height=\"218\" id=\"image29abdb07df\" transform=\"scale(1 -1)translate(0 -218)\" width=\"218\" x=\"36.465625\" xlink:href=\"data:image/png;base64,\niVBORw0KGgoAAAANSUhEUgAAANoAAADaCAYAAADAHVzbAAAABHNCSVQICAgIfAhkiAAAAt5JREFUeJzt2rGNwkAURVFYOYU2cAe0TSHkSPRBircFC8l3WO858Q9ecjXJHA+Hw3L45y6Xy+rb2+22+nae50/msEM/owfAfyA0CAgNAkKDgNAgIDQICA0CQoOA0CAgNAhMowd8g9PptPrWtyo+4UWDgNAgIDQICA0CQoOA0CAgNAgIDQJCg4DQICA0CAgNAkKDgNAgIDQICA0CQoOA0CAgNAgIDQJCg4DQICA0CAgNAkKDgNAgIDQICA0CQoOA0CAgNAgIDQJCg4DQICA0CAgNAkKDgNAgIDQICA0CQoOA0CAgNAgIDQJCg4DQICA0CAgNAkKDgNAgIDQICA0CQoPAdD6fVx/P87zhFNgvLxoEhAYBoUFAaBAQGgSEBgGhQUBoEBAaBIQGgeOyLMvoEbB3XjQICA0CQoOA0CAgNAgIDQJCg4DQICA0CAgNAkKDgNAgIDQICA0CQoOA0CAgNAgIDQJCg4DQICA0CAgNAkKDgNAgIDQICA0CQoOA0CAgNAgIDQJCg4DQICA0CAgNAkKDgNAgIDQICA0CQoOA0CAgNAgIDQJCg4DQICA0CAgNAkKDgNAgIDQICA0CQoOA0CAgNAgIDQJCg4DQICA0CAgNAkKDgNAgIDQICA0CQoOA0CAgNAhMowfwN12v19W37/d7wyXjPJ/P1bdeNAgIDQJCg4DQICA0CAgNAkKDgNAgIDQICA0CvmCxufv9PnrCcF40CAgNAkKDgNAgIDQICA0CQoOA0CAgNAgIDQJCg4DQICA0CAgNAkKDgNAgIDQICA0CQoOA0CAgNAgIDQJCg4DQICA0CAgNAkKDgNAgIDQICA0CQoOA0CAgNAgIDQJCg4DQICA0CAgNAkKDgNAgIDQICA0CQoOA0CAgNAgIDQJCg4DQICA0CAgNAkKDgNAgIDQITKMH8D0ej8fq29frteGS/fGiQUBoEBAaBIQGAaFBQGgQEBoEhAYBoUFAaBD4BdlIGOtePIkYAAAAAElFTkSuQmCC\" y=\"-10.14\"/>\n   </g>\n   <g id=\"matplotlib.axis_1\">\n    <g id=\"xtick_1\">\n     <g id=\"line2d_1\">\n      <defs>\n       <path d=\"M 0 0 \nL 0 3.5 \n\" id=\"m1624480989\" style=\"stroke:#000000;stroke-width:0.8;\"/>\n      </defs>\n      <g>\n       <use style=\"stroke:#000000;stroke-width:0.8;\" x=\"41.901625\" xlink:href=\"#m1624480989\" y=\"228.14\"/>\n      </g>\n     </g>\n     <g id=\"text_1\">\n      <!-- 0 -->\n      <defs>\n       <path d=\"M 31.78125 66.40625 \nQ 24.171875 66.40625 20.328125 58.90625 \nQ 16.5 51.421875 16.5 36.375 \nQ 16.5 21.390625 20.328125 13.890625 \nQ 24.171875 6.390625 31.78125 6.390625 \nQ 39.453125 6.390625 43.28125 13.890625 \nQ 47.125 21.390625 47.125 36.375 \nQ 47.125 51.421875 43.28125 58.90625 \nQ 39.453125 66.40625 31.78125 66.40625 \nz\nM 31.78125 74.21875 \nQ 44.046875 74.21875 50.515625 64.515625 \nQ 56.984375 54.828125 56.984375 36.375 \nQ 56.984375 17.96875 50.515625 8.265625 \nQ 44.046875 -1.421875 31.78125 -1.421875 \nQ 19.53125 -1.421875 13.0625 8.265625 \nQ 6.59375 17.96875 6.59375 36.375 \nQ 6.59375 54.828125 13.0625 64.515625 \nQ 19.53125 74.21875 31.78125 74.21875 \nz\n\" id=\"DejaVuSans-30\"/>\n      </defs>\n      <g transform=\"translate(38.720375 242.738437)scale(0.1 -0.1)\">\n       <use xlink:href=\"#DejaVuSans-30\"/>\n      </g>\n     </g>\n    </g>\n    <g id=\"xtick_2\">\n     <g id=\"line2d_2\">\n      <g>\n       <use style=\"stroke:#000000;stroke-width:0.8;\" x=\"96.261625\" xlink:href=\"#m1624480989\" y=\"228.14\"/>\n      </g>\n     </g>\n     <g id=\"text_2\">\n      <!-- 5 -->\n      <defs>\n       <path d=\"M 10.796875 72.90625 \nL 49.515625 72.90625 \nL 49.515625 64.59375 \nL 19.828125 64.59375 \nL 19.828125 46.734375 \nQ 21.96875 47.46875 24.109375 47.828125 \nQ 26.265625 48.1875 28.421875 48.1875 \nQ 40.625 48.1875 47.75 41.5 \nQ 54.890625 34.8125 54.890625 23.390625 \nQ 54.890625 11.625 47.5625 5.09375 \nQ 40.234375 -1.421875 26.90625 -1.421875 \nQ 22.3125 -1.421875 17.546875 -0.640625 \nQ 12.796875 0.140625 7.71875 1.703125 \nL 7.71875 11.625 \nQ 12.109375 9.234375 16.796875 8.0625 \nQ 21.484375 6.890625 26.703125 6.890625 \nQ 35.15625 6.890625 40.078125 11.328125 \nQ 45.015625 15.765625 45.015625 23.390625 \nQ 45.015625 31 40.078125 35.4375 \nQ 35.15625 39.890625 26.703125 39.890625 \nQ 22.75 39.890625 18.8125 39.015625 \nQ 14.890625 38.140625 10.796875 36.28125 \nz\n\" id=\"DejaVuSans-35\"/>\n      </defs>\n      <g transform=\"translate(93.080375 242.738437)scale(0.1 -0.1)\">\n       <use xlink:href=\"#DejaVuSans-35\"/>\n      </g>\n     </g>\n    </g>\n    <g id=\"xtick_3\">\n     <g id=\"line2d_3\">\n      <g>\n       <use style=\"stroke:#000000;stroke-width:0.8;\" x=\"150.621625\" xlink:href=\"#m1624480989\" y=\"228.14\"/>\n      </g>\n     </g>\n     <g id=\"text_3\">\n      <!-- 10 -->\n      <defs>\n       <path d=\"M 12.40625 8.296875 \nL 28.515625 8.296875 \nL 28.515625 63.921875 \nL 10.984375 60.40625 \nL 10.984375 69.390625 \nL 28.421875 72.90625 \nL 38.28125 72.90625 \nL 38.28125 8.296875 \nL 54.390625 8.296875 \nL 54.390625 0 \nL 12.40625 0 \nz\n\" id=\"DejaVuSans-31\"/>\n      </defs>\n      <g transform=\"translate(144.259125 242.738437)scale(0.1 -0.1)\">\n       <use xlink:href=\"#DejaVuSans-31\"/>\n       <use x=\"63.623047\" xlink:href=\"#DejaVuSans-30\"/>\n      </g>\n     </g>\n    </g>\n    <g id=\"xtick_4\">\n     <g id=\"line2d_4\">\n      <g>\n       <use style=\"stroke:#000000;stroke-width:0.8;\" x=\"204.981625\" xlink:href=\"#m1624480989\" y=\"228.14\"/>\n      </g>\n     </g>\n     <g id=\"text_4\">\n      <!-- 15 -->\n      <g transform=\"translate(198.619125 242.738437)scale(0.1 -0.1)\">\n       <use xlink:href=\"#DejaVuSans-31\"/>\n       <use x=\"63.623047\" xlink:href=\"#DejaVuSans-35\"/>\n      </g>\n     </g>\n    </g>\n   </g>\n   <g id=\"matplotlib.axis_2\">\n    <g id=\"ytick_1\">\n     <g id=\"line2d_5\">\n      <defs>\n       <path d=\"M 0 0 \nL -3.5 0 \n\" id=\"m33ee3e2f42\" style=\"stroke:#000000;stroke-width:0.8;\"/>\n      </defs>\n      <g>\n       <use style=\"stroke:#000000;stroke-width:0.8;\" x=\"36.465625\" xlink:href=\"#m33ee3e2f42\" y=\"16.136\"/>\n      </g>\n     </g>\n     <g id=\"text_5\">\n      <!-- 0.0 -->\n      <defs>\n       <path d=\"M 10.6875 12.40625 \nL 21 12.40625 \nL 21 0 \nL 10.6875 0 \nz\n\" id=\"DejaVuSans-2e\"/>\n      </defs>\n      <g transform=\"translate(13.5625 19.935219)scale(0.1 -0.1)\">\n       <use xlink:href=\"#DejaVuSans-30\"/>\n       <use x=\"63.623047\" xlink:href=\"#DejaVuSans-2e\"/>\n       <use x=\"95.410156\" xlink:href=\"#DejaVuSans-30\"/>\n      </g>\n     </g>\n    </g>\n    <g id=\"ytick_2\">\n     <g id=\"line2d_6\">\n      <g>\n       <use style=\"stroke:#000000;stroke-width:0.8;\" x=\"36.465625\" xlink:href=\"#m33ee3e2f42\" y=\"43.316\"/>\n      </g>\n     </g>\n     <g id=\"text_6\">\n      <!-- 2.5 -->\n      <defs>\n       <path d=\"M 19.1875 8.296875 \nL 53.609375 8.296875 \nL 53.609375 0 \nL 7.328125 0 \nL 7.328125 8.296875 \nQ 12.9375 14.109375 22.625 23.890625 \nQ 32.328125 33.6875 34.8125 36.53125 \nQ 39.546875 41.84375 41.421875 45.53125 \nQ 43.3125 49.21875 43.3125 52.78125 \nQ 43.3125 58.59375 39.234375 62.25 \nQ 35.15625 65.921875 28.609375 65.921875 \nQ 23.96875 65.921875 18.8125 64.3125 \nQ 13.671875 62.703125 7.8125 59.421875 \nL 7.8125 69.390625 \nQ 13.765625 71.78125 18.9375 73 \nQ 24.125 74.21875 28.421875 74.21875 \nQ 39.75 74.21875 46.484375 68.546875 \nQ 53.21875 62.890625 53.21875 53.421875 \nQ 53.21875 48.921875 51.53125 44.890625 \nQ 49.859375 40.875 45.40625 35.40625 \nQ 44.1875 33.984375 37.640625 27.21875 \nQ 31.109375 20.453125 19.1875 8.296875 \nz\n\" id=\"DejaVuSans-32\"/>\n      </defs>\n      <g transform=\"translate(13.5625 47.115219)scale(0.1 -0.1)\">\n       <use xlink:href=\"#DejaVuSans-32\"/>\n       <use x=\"63.623047\" xlink:href=\"#DejaVuSans-2e\"/>\n       <use x=\"95.410156\" xlink:href=\"#DejaVuSans-35\"/>\n      </g>\n     </g>\n    </g>\n    <g id=\"ytick_3\">\n     <g id=\"line2d_7\">\n      <g>\n       <use style=\"stroke:#000000;stroke-width:0.8;\" x=\"36.465625\" xlink:href=\"#m33ee3e2f42\" y=\"70.496\"/>\n      </g>\n     </g>\n     <g id=\"text_7\">\n      <!-- 5.0 -->\n      <g transform=\"translate(13.5625 74.295219)scale(0.1 -0.1)\">\n       <use xlink:href=\"#DejaVuSans-35\"/>\n       <use x=\"63.623047\" xlink:href=\"#DejaVuSans-2e\"/>\n       <use x=\"95.410156\" xlink:href=\"#DejaVuSans-30\"/>\n      </g>\n     </g>\n    </g>\n    <g id=\"ytick_4\">\n     <g id=\"line2d_8\">\n      <g>\n       <use style=\"stroke:#000000;stroke-width:0.8;\" x=\"36.465625\" xlink:href=\"#m33ee3e2f42\" y=\"97.676\"/>\n      </g>\n     </g>\n     <g id=\"text_8\">\n      <!-- 7.5 -->\n      <defs>\n       <path d=\"M 8.203125 72.90625 \nL 55.078125 72.90625 \nL 55.078125 68.703125 \nL 28.609375 0 \nL 18.3125 0 \nL 43.21875 64.59375 \nL 8.203125 64.59375 \nz\n\" id=\"DejaVuSans-37\"/>\n      </defs>\n      <g transform=\"translate(13.5625 101.475219)scale(0.1 -0.1)\">\n       <use xlink:href=\"#DejaVuSans-37\"/>\n       <use x=\"63.623047\" xlink:href=\"#DejaVuSans-2e\"/>\n       <use x=\"95.410156\" xlink:href=\"#DejaVuSans-35\"/>\n      </g>\n     </g>\n    </g>\n    <g id=\"ytick_5\">\n     <g id=\"line2d_9\">\n      <g>\n       <use style=\"stroke:#000000;stroke-width:0.8;\" x=\"36.465625\" xlink:href=\"#m33ee3e2f42\" y=\"124.856\"/>\n      </g>\n     </g>\n     <g id=\"text_9\">\n      <!-- 10.0 -->\n      <g transform=\"translate(7.2 128.655219)scale(0.1 -0.1)\">\n       <use xlink:href=\"#DejaVuSans-31\"/>\n       <use x=\"63.623047\" xlink:href=\"#DejaVuSans-30\"/>\n       <use x=\"127.246094\" xlink:href=\"#DejaVuSans-2e\"/>\n       <use x=\"159.033203\" xlink:href=\"#DejaVuSans-30\"/>\n      </g>\n     </g>\n    </g>\n    <g id=\"ytick_6\">\n     <g id=\"line2d_10\">\n      <g>\n       <use style=\"stroke:#000000;stroke-width:0.8;\" x=\"36.465625\" xlink:href=\"#m33ee3e2f42\" y=\"152.036\"/>\n      </g>\n     </g>\n     <g id=\"text_10\">\n      <!-- 12.5 -->\n      <g transform=\"translate(7.2 155.835219)scale(0.1 -0.1)\">\n       <use xlink:href=\"#DejaVuSans-31\"/>\n       <use x=\"63.623047\" xlink:href=\"#DejaVuSans-32\"/>\n       <use x=\"127.246094\" xlink:href=\"#DejaVuSans-2e\"/>\n       <use x=\"159.033203\" xlink:href=\"#DejaVuSans-35\"/>\n      </g>\n     </g>\n    </g>\n    <g id=\"ytick_7\">\n     <g id=\"line2d_11\">\n      <g>\n       <use style=\"stroke:#000000;stroke-width:0.8;\" x=\"36.465625\" xlink:href=\"#m33ee3e2f42\" y=\"179.216\"/>\n      </g>\n     </g>\n     <g id=\"text_11\">\n      <!-- 15.0 -->\n      <g transform=\"translate(7.2 183.015219)scale(0.1 -0.1)\">\n       <use xlink:href=\"#DejaVuSans-31\"/>\n       <use x=\"63.623047\" xlink:href=\"#DejaVuSans-35\"/>\n       <use x=\"127.246094\" xlink:href=\"#DejaVuSans-2e\"/>\n       <use x=\"159.033203\" xlink:href=\"#DejaVuSans-30\"/>\n      </g>\n     </g>\n    </g>\n    <g id=\"ytick_8\">\n     <g id=\"line2d_12\">\n      <g>\n       <use style=\"stroke:#000000;stroke-width:0.8;\" x=\"36.465625\" xlink:href=\"#m33ee3e2f42\" y=\"206.396\"/>\n      </g>\n     </g>\n     <g id=\"text_12\">\n      <!-- 17.5 -->\n      <g transform=\"translate(7.2 210.195219)scale(0.1 -0.1)\">\n       <use xlink:href=\"#DejaVuSans-31\"/>\n       <use x=\"63.623047\" xlink:href=\"#DejaVuSans-37\"/>\n       <use x=\"127.246094\" xlink:href=\"#DejaVuSans-2e\"/>\n       <use x=\"159.033203\" xlink:href=\"#DejaVuSans-35\"/>\n      </g>\n     </g>\n    </g>\n   </g>\n   <g id=\"patch_3\">\n    <path d=\"M 36.465625 228.14 \nL 36.465625 10.7 \n\" style=\"fill:none;stroke:#000000;stroke-linecap:square;stroke-linejoin:miter;stroke-width:0.8;\"/>\n   </g>\n   <g id=\"patch_4\">\n    <path d=\"M 253.905625 228.14 \nL 253.905625 10.7 \n\" style=\"fill:none;stroke:#000000;stroke-linecap:square;stroke-linejoin:miter;stroke-width:0.8;\"/>\n   </g>\n   <g id=\"patch_5\">\n    <path d=\"M 36.465625 228.14 \nL 253.905625 228.14 \n\" style=\"fill:none;stroke:#000000;stroke-linecap:square;stroke-linejoin:miter;stroke-width:0.8;\"/>\n   </g>\n   <g id=\"patch_6\">\n    <path d=\"M 36.465625 10.7 \nL 253.905625 10.7 \n\" style=\"fill:none;stroke:#000000;stroke-linecap:square;stroke-linejoin:miter;stroke-width:0.8;\"/>\n   </g>\n  </g>\n </g>\n <defs>\n  <clipPath id=\"paadf472171\">\n   <rect height=\"217.44\" width=\"217.44\" x=\"36.465625\" y=\"10.7\"/>\n  </clipPath>\n </defs>\n</svg>\n",
      "image/png": "[encoded data removed]"
     },
     "metadata": {
      "needs_background": "light"
     }
    }
   ],
   "metadata": {}
  },
  {
   "cell_type": "code",
   "execution_count": null,
   "source": [
    "# On above result, we can see that apllying Dilation in to black with 2 circle image \n",
    "# Giving us the image with a bigger circle (Dilation effect enlarging area of white surface)"
   ],
   "outputs": [],
   "metadata": {}
  },
  {
   "cell_type": "markdown",
   "source": [
    "___\n",
    "## EXAMPLE 2 : Erotion"
   ],
   "metadata": {}
  },
  {
   "cell_type": "code",
   "execution_count": 12,
   "source": [
    "# Create square kernel 3x3 with all value element = 1\n",
    "\n",
    "kernel = np.ones((3,3),np.uint8)\n",
    "print(kernel)"
   ],
   "outputs": [
    {
     "output_type": "stream",
     "name": "stdout",
     "text": [
      "[[1 1 1]\n",
      " [1 1 1]\n",
      " [1 1 1]]\n"
     ]
    }
   ],
   "metadata": {}
  },
  {
   "cell_type": "code",
   "execution_count": 19,
   "source": [
    "# Apply erotion to black with 2 circle image above using previously created kernel \n",
    "eroding = cv2.erode(frame.copy(), kernel, iterations = 1)\n",
    "\n",
    "plt.imshow(eroding, cmap=\"gray\")"
   ],
   "outputs": [
    {
     "output_type": "execute_result",
     "data": {
      "text/plain": [
       "<matplotlib.image.AxesImage at 0x7f4dd46630>"
      ]
     },
     "metadata": {},
     "execution_count": 19
    },
    {
     "output_type": "display_data",
     "data": {
      "text/plain": [
       "<matplotlib.figure.Figure at 0x7f4dd7fb70>"
      ],
      "image/svg+xml": "<?xml version=\"1.0\" encoding=\"utf-8\" standalone=\"no\"?>\n<!DOCTYPE svg PUBLIC \"-//W3C//DTD SVG 1.1//EN\"\n  \"http://www.w3.org/Graphics/SVG/1.1/DTD/svg11.dtd\">\n<!-- Created with matplotlib (http://matplotlib.org/) -->\n<svg height=\"252pt\" version=\"1.1\" viewBox=\"0 0 264 252\" width=\"264pt\" xmlns=\"http://www.w3.org/2000/svg\" xmlns:xlink=\"http://www.w3.org/1999/xlink\">\n <defs>\n  <style type=\"text/css\">\n*{stroke-linecap:butt;stroke-linejoin:round;}\n  </style>\n </defs>\n <g id=\"figure_1\">\n  <g id=\"patch_1\">\n   <path d=\"M 0 252.018125 \nL 264.605625 252.018125 \nL 264.605625 0 \nL 0 0 \nz\n\" style=\"fill:none;\"/>\n  </g>\n  <g id=\"axes_1\">\n   <g id=\"patch_2\">\n    <path d=\"M 36.465625 228.14 \nL 253.905625 228.14 \nL 253.905625 10.7 \nL 36.465625 10.7 \nz\n\" style=\"fill:#ffffff;\"/>\n   </g>\n   <g clip-path=\"url(#p081d2a0463)\">\n    <image height=\"218\" id=\"imaged74464192c\" transform=\"scale(1 -1)translate(0 -218)\" width=\"218\" x=\"36.465625\" xlink:href=\"data:image/png;base64,\niVBORw0KGgoAAAANSUhEUgAAANoAAADaCAYAAADAHVzbAAAABHNCSVQICAgIfAhkiAAAA8pJREFUeJzt3cFtYkkUQNHvUa9JA+cCG3JAEBMmCSSTCyINEuhZ9WxdoP4X7Dln/fT1Nle1KdV/m6bp9wTM6p9nLwD/B0KDgNAgIDQICA0CQoOA0CAgNAgIDQJCg4DQICA0CAgNAkKDgNAgIDQICA0CQoOA0CAgNAgIDQK/nr0AP99isRiau91uM2/yPE40CAgNAkKDgNAgIDQICA0CQoOA0CAgNAgIDQKuYPGQ9Xo9PPv5+Tk0t9lshr95Op2GZ1+BEw0CQoOA0CAgNAgIDQJCg4DQICA0CAgNAkKDwNs0Tb+fvQSvYbfbDc8eDocZN/nafr8fnv34+JhxkzFONAgIDQJCg4DQICA0CAgNAkKDgNAgIDQICA0CrmD9cMvlcnj2npel3t/fH1nnr7lcLsOz97yudb1eH1nnS040CAgNAkKDgNAgIDQICA0CQoOA0CAgNAi4GcJ/ttvt8OzxeJxxk6/d85DQs3edJicaJIQGAaFBQGgQEBoEhAYBoUFAaBAQGgSEBgFXsHjIarUanj2fz0Nz9zyic89DQq/AiQYBoUFAaBAQGgSEBgGhQUBoEBAaBIQGAaFBwBUsZrdYLIbmbrfbzJs8jxMNAkKDgNAgIDQICA0CQoOA0CAgNAgIDQJCg4ArWBBwokFAaBAQGgSEBgGhQUBoEBAaBIQGAaFBQGgQEBoEhAYBoUFAaBAQGgSEBgGhQUBoEBAaBIQGAaFB4NezF5jL6M/vpuln/wCP1+BEg4DQICA0CAgNAkKDgNAgIDQICA0CQoOA0CDw7a5grdfrobnPz8/hb242m+HZ0+k0PAt/ONEgIDQICA0CQoOA0CAgNAgIDQJCg4DQICA0CLxN0/T72Uvsdrvh2cPhMOMmX9vv98OzHx8fM27Cd+JEg4DQICA0CAgNAkKDgNAgIDQICA0CQoOA0CAw2xWs5XI5PHvPy1Lv7++PrPPXXC6X4dl7Xte6Xq+PrMM34USDgNAgIDQICA0CQoOA0CAgNAgIDQJCg4DQIPASr2Btt9vh2ePxOOMmX7vnxa5n78rrcKJBQGgQEBoEhAYBoUFAaBAQGgSEBgGhQeAlbobcY7VaDc2dz+fhb97ziM49DwnBH040CAgNAkKDgNAgIDQICA0CQoOA0CAgNAgIDQLf7grWqMViMTx7u91m3AScaJAQGgSEBgGhQUBoEBAaBIQGAaFBQGgQEBoEfuwVLHglTjQICA0CQoOA0CAgNAgIDQJCg4DQICA0CAgNAkKDgNAgIDQICA0CQoOA0CAgNAgIDQJCg4DQICA0CPwLz75coxYklXcAAAAASUVORK5CYII=\" y=\"-10.14\"/>\n   </g>\n   <g id=\"matplotlib.axis_1\">\n    <g id=\"xtick_1\">\n     <g id=\"line2d_1\">\n      <defs>\n       <path d=\"M 0 0 \nL 0 3.5 \n\" id=\"m06df8218ce\" style=\"stroke:#000000;stroke-width:0.8;\"/>\n      </defs>\n      <g>\n       <use style=\"stroke:#000000;stroke-width:0.8;\" x=\"41.901625\" xlink:href=\"#m06df8218ce\" y=\"228.14\"/>\n      </g>\n     </g>\n     <g id=\"text_1\">\n      <!-- 0 -->\n      <defs>\n       <path d=\"M 31.78125 66.40625 \nQ 24.171875 66.40625 20.328125 58.90625 \nQ 16.5 51.421875 16.5 36.375 \nQ 16.5 21.390625 20.328125 13.890625 \nQ 24.171875 6.390625 31.78125 6.390625 \nQ 39.453125 6.390625 43.28125 13.890625 \nQ 47.125 21.390625 47.125 36.375 \nQ 47.125 51.421875 43.28125 58.90625 \nQ 39.453125 66.40625 31.78125 66.40625 \nz\nM 31.78125 74.21875 \nQ 44.046875 74.21875 50.515625 64.515625 \nQ 56.984375 54.828125 56.984375 36.375 \nQ 56.984375 17.96875 50.515625 8.265625 \nQ 44.046875 -1.421875 31.78125 -1.421875 \nQ 19.53125 -1.421875 13.0625 8.265625 \nQ 6.59375 17.96875 6.59375 36.375 \nQ 6.59375 54.828125 13.0625 64.515625 \nQ 19.53125 74.21875 31.78125 74.21875 \nz\n\" id=\"DejaVuSans-30\"/>\n      </defs>\n      <g transform=\"translate(38.720375 242.738437)scale(0.1 -0.1)\">\n       <use xlink:href=\"#DejaVuSans-30\"/>\n      </g>\n     </g>\n    </g>\n    <g id=\"xtick_2\">\n     <g id=\"line2d_2\">\n      <g>\n       <use style=\"stroke:#000000;stroke-width:0.8;\" x=\"96.261625\" xlink:href=\"#m06df8218ce\" y=\"228.14\"/>\n      </g>\n     </g>\n     <g id=\"text_2\">\n      <!-- 5 -->\n      <defs>\n       <path d=\"M 10.796875 72.90625 \nL 49.515625 72.90625 \nL 49.515625 64.59375 \nL 19.828125 64.59375 \nL 19.828125 46.734375 \nQ 21.96875 47.46875 24.109375 47.828125 \nQ 26.265625 48.1875 28.421875 48.1875 \nQ 40.625 48.1875 47.75 41.5 \nQ 54.890625 34.8125 54.890625 23.390625 \nQ 54.890625 11.625 47.5625 5.09375 \nQ 40.234375 -1.421875 26.90625 -1.421875 \nQ 22.3125 -1.421875 17.546875 -0.640625 \nQ 12.796875 0.140625 7.71875 1.703125 \nL 7.71875 11.625 \nQ 12.109375 9.234375 16.796875 8.0625 \nQ 21.484375 6.890625 26.703125 6.890625 \nQ 35.15625 6.890625 40.078125 11.328125 \nQ 45.015625 15.765625 45.015625 23.390625 \nQ 45.015625 31 40.078125 35.4375 \nQ 35.15625 39.890625 26.703125 39.890625 \nQ 22.75 39.890625 18.8125 39.015625 \nQ 14.890625 38.140625 10.796875 36.28125 \nz\n\" id=\"DejaVuSans-35\"/>\n      </defs>\n      <g transform=\"translate(93.080375 242.738437)scale(0.1 -0.1)\">\n       <use xlink:href=\"#DejaVuSans-35\"/>\n      </g>\n     </g>\n    </g>\n    <g id=\"xtick_3\">\n     <g id=\"line2d_3\">\n      <g>\n       <use style=\"stroke:#000000;stroke-width:0.8;\" x=\"150.621625\" xlink:href=\"#m06df8218ce\" y=\"228.14\"/>\n      </g>\n     </g>\n     <g id=\"text_3\">\n      <!-- 10 -->\n      <defs>\n       <path d=\"M 12.40625 8.296875 \nL 28.515625 8.296875 \nL 28.515625 63.921875 \nL 10.984375 60.40625 \nL 10.984375 69.390625 \nL 28.421875 72.90625 \nL 38.28125 72.90625 \nL 38.28125 8.296875 \nL 54.390625 8.296875 \nL 54.390625 0 \nL 12.40625 0 \nz\n\" id=\"DejaVuSans-31\"/>\n      </defs>\n      <g transform=\"translate(144.259125 242.738437)scale(0.1 -0.1)\">\n       <use xlink:href=\"#DejaVuSans-31\"/>\n       <use x=\"63.623047\" xlink:href=\"#DejaVuSans-30\"/>\n      </g>\n     </g>\n    </g>\n    <g id=\"xtick_4\">\n     <g id=\"line2d_4\">\n      <g>\n       <use style=\"stroke:#000000;stroke-width:0.8;\" x=\"204.981625\" xlink:href=\"#m06df8218ce\" y=\"228.14\"/>\n      </g>\n     </g>\n     <g id=\"text_4\">\n      <!-- 15 -->\n      <g transform=\"translate(198.619125 242.738437)scale(0.1 -0.1)\">\n       <use xlink:href=\"#DejaVuSans-31\"/>\n       <use x=\"63.623047\" xlink:href=\"#DejaVuSans-35\"/>\n      </g>\n     </g>\n    </g>\n   </g>\n   <g id=\"matplotlib.axis_2\">\n    <g id=\"ytick_1\">\n     <g id=\"line2d_5\">\n      <defs>\n       <path d=\"M 0 0 \nL -3.5 0 \n\" id=\"m7245edc938\" style=\"stroke:#000000;stroke-width:0.8;\"/>\n      </defs>\n      <g>\n       <use style=\"stroke:#000000;stroke-width:0.8;\" x=\"36.465625\" xlink:href=\"#m7245edc938\" y=\"16.136\"/>\n      </g>\n     </g>\n     <g id=\"text_5\">\n      <!-- 0.0 -->\n      <defs>\n       <path d=\"M 10.6875 12.40625 \nL 21 12.40625 \nL 21 0 \nL 10.6875 0 \nz\n\" id=\"DejaVuSans-2e\"/>\n      </defs>\n      <g transform=\"translate(13.5625 19.935219)scale(0.1 -0.1)\">\n       <use xlink:href=\"#DejaVuSans-30\"/>\n       <use x=\"63.623047\" xlink:href=\"#DejaVuSans-2e\"/>\n       <use x=\"95.410156\" xlink:href=\"#DejaVuSans-30\"/>\n      </g>\n     </g>\n    </g>\n    <g id=\"ytick_2\">\n     <g id=\"line2d_6\">\n      <g>\n       <use style=\"stroke:#000000;stroke-width:0.8;\" x=\"36.465625\" xlink:href=\"#m7245edc938\" y=\"43.316\"/>\n      </g>\n     </g>\n     <g id=\"text_6\">\n      <!-- 2.5 -->\n      <defs>\n       <path d=\"M 19.1875 8.296875 \nL 53.609375 8.296875 \nL 53.609375 0 \nL 7.328125 0 \nL 7.328125 8.296875 \nQ 12.9375 14.109375 22.625 23.890625 \nQ 32.328125 33.6875 34.8125 36.53125 \nQ 39.546875 41.84375 41.421875 45.53125 \nQ 43.3125 49.21875 43.3125 52.78125 \nQ 43.3125 58.59375 39.234375 62.25 \nQ 35.15625 65.921875 28.609375 65.921875 \nQ 23.96875 65.921875 18.8125 64.3125 \nQ 13.671875 62.703125 7.8125 59.421875 \nL 7.8125 69.390625 \nQ 13.765625 71.78125 18.9375 73 \nQ 24.125 74.21875 28.421875 74.21875 \nQ 39.75 74.21875 46.484375 68.546875 \nQ 53.21875 62.890625 53.21875 53.421875 \nQ 53.21875 48.921875 51.53125 44.890625 \nQ 49.859375 40.875 45.40625 35.40625 \nQ 44.1875 33.984375 37.640625 27.21875 \nQ 31.109375 20.453125 19.1875 8.296875 \nz\n\" id=\"DejaVuSans-32\"/>\n      </defs>\n      <g transform=\"translate(13.5625 47.115219)scale(0.1 -0.1)\">\n       <use xlink:href=\"#DejaVuSans-32\"/>\n       <use x=\"63.623047\" xlink:href=\"#DejaVuSans-2e\"/>\n       <use x=\"95.410156\" xlink:href=\"#DejaVuSans-35\"/>\n      </g>\n     </g>\n    </g>\n    <g id=\"ytick_3\">\n     <g id=\"line2d_7\">\n      <g>\n       <use style=\"stroke:#000000;stroke-width:0.8;\" x=\"36.465625\" xlink:href=\"#m7245edc938\" y=\"70.496\"/>\n      </g>\n     </g>\n     <g id=\"text_7\">\n      <!-- 5.0 -->\n      <g transform=\"translate(13.5625 74.295219)scale(0.1 -0.1)\">\n       <use xlink:href=\"#DejaVuSans-35\"/>\n       <use x=\"63.623047\" xlink:href=\"#DejaVuSans-2e\"/>\n       <use x=\"95.410156\" xlink:href=\"#DejaVuSans-30\"/>\n      </g>\n     </g>\n    </g>\n    <g id=\"ytick_4\">\n     <g id=\"line2d_8\">\n      <g>\n       <use style=\"stroke:#000000;stroke-width:0.8;\" x=\"36.465625\" xlink:href=\"#m7245edc938\" y=\"97.676\"/>\n      </g>\n     </g>\n     <g id=\"text_8\">\n      <!-- 7.5 -->\n      <defs>\n       <path d=\"M 8.203125 72.90625 \nL 55.078125 72.90625 \nL 55.078125 68.703125 \nL 28.609375 0 \nL 18.3125 0 \nL 43.21875 64.59375 \nL 8.203125 64.59375 \nz\n\" id=\"DejaVuSans-37\"/>\n      </defs>\n      <g transform=\"translate(13.5625 101.475219)scale(0.1 -0.1)\">\n       <use xlink:href=\"#DejaVuSans-37\"/>\n       <use x=\"63.623047\" xlink:href=\"#DejaVuSans-2e\"/>\n       <use x=\"95.410156\" xlink:href=\"#DejaVuSans-35\"/>\n      </g>\n     </g>\n    </g>\n    <g id=\"ytick_5\">\n     <g id=\"line2d_9\">\n      <g>\n       <use style=\"stroke:#000000;stroke-width:0.8;\" x=\"36.465625\" xlink:href=\"#m7245edc938\" y=\"124.856\"/>\n      </g>\n     </g>\n     <g id=\"text_9\">\n      <!-- 10.0 -->\n      <g transform=\"translate(7.2 128.655219)scale(0.1 -0.1)\">\n       <use xlink:href=\"#DejaVuSans-31\"/>\n       <use x=\"63.623047\" xlink:href=\"#DejaVuSans-30\"/>\n       <use x=\"127.246094\" xlink:href=\"#DejaVuSans-2e\"/>\n       <use x=\"159.033203\" xlink:href=\"#DejaVuSans-30\"/>\n      </g>\n     </g>\n    </g>\n    <g id=\"ytick_6\">\n     <g id=\"line2d_10\">\n      <g>\n       <use style=\"stroke:#000000;stroke-width:0.8;\" x=\"36.465625\" xlink:href=\"#m7245edc938\" y=\"152.036\"/>\n      </g>\n     </g>\n     <g id=\"text_10\">\n      <!-- 12.5 -->\n      <g transform=\"translate(7.2 155.835219)scale(0.1 -0.1)\">\n       <use xlink:href=\"#DejaVuSans-31\"/>\n       <use x=\"63.623047\" xlink:href=\"#DejaVuSans-32\"/>\n       <use x=\"127.246094\" xlink:href=\"#DejaVuSans-2e\"/>\n       <use x=\"159.033203\" xlink:href=\"#DejaVuSans-35\"/>\n      </g>\n     </g>\n    </g>\n    <g id=\"ytick_7\">\n     <g id=\"line2d_11\">\n      <g>\n       <use style=\"stroke:#000000;stroke-width:0.8;\" x=\"36.465625\" xlink:href=\"#m7245edc938\" y=\"179.216\"/>\n      </g>\n     </g>\n     <g id=\"text_11\">\n      <!-- 15.0 -->\n      <g transform=\"translate(7.2 183.015219)scale(0.1 -0.1)\">\n       <use xlink:href=\"#DejaVuSans-31\"/>\n       <use x=\"63.623047\" xlink:href=\"#DejaVuSans-35\"/>\n       <use x=\"127.246094\" xlink:href=\"#DejaVuSans-2e\"/>\n       <use x=\"159.033203\" xlink:href=\"#DejaVuSans-30\"/>\n      </g>\n     </g>\n    </g>\n    <g id=\"ytick_8\">\n     <g id=\"line2d_12\">\n      <g>\n       <use style=\"stroke:#000000;stroke-width:0.8;\" x=\"36.465625\" xlink:href=\"#m7245edc938\" y=\"206.396\"/>\n      </g>\n     </g>\n     <g id=\"text_12\">\n      <!-- 17.5 -->\n      <g transform=\"translate(7.2 210.195219)scale(0.1 -0.1)\">\n       <use xlink:href=\"#DejaVuSans-31\"/>\n       <use x=\"63.623047\" xlink:href=\"#DejaVuSans-37\"/>\n       <use x=\"127.246094\" xlink:href=\"#DejaVuSans-2e\"/>\n       <use x=\"159.033203\" xlink:href=\"#DejaVuSans-35\"/>\n      </g>\n     </g>\n    </g>\n   </g>\n   <g id=\"patch_3\">\n    <path d=\"M 36.465625 228.14 \nL 36.465625 10.7 \n\" style=\"fill:none;stroke:#000000;stroke-linecap:square;stroke-linejoin:miter;stroke-width:0.8;\"/>\n   </g>\n   <g id=\"patch_4\">\n    <path d=\"M 253.905625 228.14 \nL 253.905625 10.7 \n\" style=\"fill:none;stroke:#000000;stroke-linecap:square;stroke-linejoin:miter;stroke-width:0.8;\"/>\n   </g>\n   <g id=\"patch_5\">\n    <path d=\"M 36.465625 228.14 \nL 253.905625 228.14 \n\" style=\"fill:none;stroke:#000000;stroke-linecap:square;stroke-linejoin:miter;stroke-width:0.8;\"/>\n   </g>\n   <g id=\"patch_6\">\n    <path d=\"M 36.465625 10.7 \nL 253.905625 10.7 \n\" style=\"fill:none;stroke:#000000;stroke-linecap:square;stroke-linejoin:miter;stroke-width:0.8;\"/>\n   </g>\n  </g>\n </g>\n <defs>\n  <clipPath id=\"p081d2a0463\">\n   <rect height=\"217.44\" width=\"217.44\" x=\"36.465625\" y=\"10.7\"/>\n  </clipPath>\n </defs>\n</svg>\n",
      "image/png": "[encoded data removed]"
     },
     "metadata": {
      "needs_background": "light"
     }
    }
   ],
   "metadata": {}
  },
  {
   "cell_type": "code",
   "execution_count": null,
   "source": [
    "# On above result, we can see that apllying Erotion in to black with 2 circle image \n",
    "# Giving us the image with a smaller circle (Dilation effect shringking area of white surface)"
   ],
   "outputs": [],
   "metadata": {}
  },
  {
   "cell_type": "markdown",
   "source": [
    "____\n",
    "## Application : MRI image Denoising using Eroding \n",
    "\n",
    "- Using `cv2.erode()` with square kernel 3x3"
   ],
   "metadata": {}
  },
  {
   "cell_type": "code",
   "execution_count": 24,
   "source": [
    "# read image\n",
    "img = cv2.imread('noisy_mri.jpg')\n",
    "\n",
    "# convert to grayscale\n",
    "gray = cv2.cvtColor(img, cv2.COLOR_BGR2GRAY)\n",
    "\n",
    "# create kernel & apply to eroding\n",
    "kernel = np.ones((2,2),np.uint8)\n",
    "erosion = cv2.erode(gray, kernel, iterations = 2)\n",
    "\n",
    "# show result\n",
    "cv2.imshow(\"Erosion\", erosion)\n",
    "cv2.imshow(\"Original\", img)\n",
    "cv2.waitKey(0)\n",
    "cv2.destroyAllWindows()"
   ],
   "outputs": [],
   "metadata": {}
  },
  {
   "cell_type": "markdown",
   "source": [
    "___\n",
    "## Application : Fixing Broken Character using Dilating"
   ],
   "metadata": {}
  },
  {
   "cell_type": "code",
   "execution_count": 29,
   "source": [
    "# read image\n",
    "img = cv2.imread('Broker_Char.png')\n",
    "\n",
    "# convert to grayscale\n",
    "gray = cv2.cvtColor(img, cv2.COLOR_BGR2GRAY)\n",
    "\n",
    "# apply simple thresholding binary\n",
    "ret, thresh = cv2.threshold(img, 127, 255, cv2.THRESH_BINARY)\n",
    "\n",
    "# create kernel & apply to dilating\n",
    "kernel = np.ones((5,5),np.uint8)\n",
    "dilating = cv2.dilate(thresh, kernel, iterations = 5)\n",
    "\n",
    "cv2.imshow(\"Dilating\", dilating)\n",
    "cv2.imshow(\"Original\", img)\n",
    "cv2.waitKey(0)\n",
    "cv2.destroyAllWindows()"
   ],
   "outputs": [],
   "metadata": {}
  },
  {
   "cell_type": "markdown",
   "source": [
    "___\n",
    "## Appication : Use Eroding & Dilating at the same time for Denoising & Fixing broken line"
   ],
   "metadata": {}
  },
  {
   "cell_type": "code",
   "execution_count": 30,
   "source": [
    "# read imag\n",
    "img = cv2.imread('Noised_Broken_Char.png')\n",
    "\n",
    "# convert to grayscale\n",
    "gray = cv2.cvtColor(img, cv2.COLOR_BGR2GRAY)\n",
    "\n",
    "# apply simpel thresholding binary\n",
    "ret, thresh = cv2.threshold(img, 127, 255, cv2.THRESH_BINARY)\n",
    "\n",
    "# create kernel 3x3\n",
    "kernel = np.ones((3,3),np.uint8)\n",
    "\n",
    "# apply eroding to reduce noise in image\n",
    "erosion = cv2.erode(thresh, kernel, iterations = 3)\n",
    "\n",
    "# apply dilating to fix broken line\n",
    "dilating = cv2.dilate(erosion, kernel, iterations = 9)\n",
    "\n",
    "# normalize dilation effect using eroding\n",
    "normalize = cv2.erode(dilating, kernel, iterations = 7)\n",
    "\n",
    "\n",
    "# show result\n",
    "cv2.imshow(\"Erosion\", erosion)\n",
    "cv2.imshow(\"Dilating\", dilating)\n",
    "cv2.imshow(\"Original\", img)\n",
    "cv2.imshow(\"normalize\", normalize)\n",
    "cv2.waitKey(0)\n",
    "cv2.destroyAllWindows()\n"
   ],
   "outputs": [],
   "metadata": {}
  },
  {
   "cell_type": "markdown",
   "source": [
    "___\n",
    "# 2. Advance Morphological Transform \n",
    "- Advance Morphological Transform use `cv2.morphologyEx(img, morphological_type, kernel, iterations)`\n",
    "- where :\n",
    "    - `img` : input image\n",
    "    - `morphological_type` : \n",
    "        - **Opening** : `cv2.MORPH_OPEN` (**erosion followed by dilation**. It is useful in **removing noise**.)<br>\n",
    "        <img src=\"resource/opening.png\" style=\"width:200px\"></img>\n",
    "        - **Closing** : `cv2.MORPH_CLOSE` (**Dilation followed by Erosion**. It is useful in **closing small holes** inside the foreground objects)<br>\n",
    "        <img src=\"resource/closing.png\" style=\"width:200px\"></img>\n",
    "        - **Morphological Gradient** : `cv2.MORPH_GRADIENT` (The result will look like the outline of the object.)<br>\n",
    "        <img src=\"resource/gradient.png\" style=\"width:200px\"></img>\n",
    "    - `kernel` : kernel matrix (ndarray), created using np.ones() or cv2.getStructuringElement()\n",
    "    - `iterations` : Number of times method (opening/closing/Gradient) aplied to input image."
   ],
   "metadata": {}
  },
  {
   "cell_type": "markdown",
   "source": [
    "___\n",
    "## 2.1 Opening & Closing"
   ],
   "metadata": {}
  },
  {
   "cell_type": "markdown",
   "source": [
    "- Implementation Opening on Noisy MRI Image\n",
    "- Object scale after opening similar to original"
   ],
   "metadata": {}
  },
  {
   "cell_type": "code",
   "execution_count": 36,
   "source": [
    "# read image\n",
    "img = cv2.imread('noisy_mri.jpg')\n",
    "\n",
    "# convert to grayscale\n",
    "gray = cv2.cvtColor(img, cv2.COLOR_BGR2GRAY)\n",
    "\n",
    "# create kernel matrix 3x3\n",
    "kernel = np.ones((3,3),np.uint8)\n",
    "\n",
    "# apply advance morphological transform (Opening) \n",
    "opening = cv2.morphologyEx(gray, cv2.MORPH_OPEN, kernel, iterations=1)\n",
    "\n",
    "# show result\n",
    "cv2.imshow(\"Opening\", opening)\n",
    "cv2.imshow(\"Original\", img)\n",
    "cv2.waitKey(0)\n",
    "cv2.destroyAllWindows()"
   ],
   "outputs": [],
   "metadata": {}
  },
  {
   "cell_type": "markdown",
   "source": [
    "- Implementation Closing on Broken Char Image\n",
    "- Object scale after closing similar to original"
   ],
   "metadata": {}
  },
  {
   "cell_type": "code",
   "execution_count": 39,
   "source": [
    "# read image\n",
    "img = cv2.imread('Broken_Char_2.png')\n",
    "\n",
    "# convert to grayscale\n",
    "gray = cv2.cvtColor(img, cv2.COLOR_BGR2GRAY)\n",
    "\n",
    "# apply simple thresholding\n",
    "ret, thresh = cv2.threshold(img, 127, 255, cv2.THRESH_BINARY)\n",
    "\n",
    "# create kernel matrix 3x3\n",
    "kernel = np.ones((3,3),np.uint8)\n",
    "\n",
    "# apply advance morphological transform (Closing) \n",
    "closing = cv2.morphologyEx(gray, cv2.MORPH_CLOSE, kernel, iterations=3)\n",
    "\n",
    "\n",
    "# show image\n",
    "cv2.imshow(\"Closing\", closing)\n",
    "cv2.imshow(\"Original\", img)\n",
    "cv2.waitKey(0)\n",
    "cv2.destroyAllWindows()"
   ],
   "outputs": [],
   "metadata": {}
  },
  {
   "cell_type": "markdown",
   "source": [
    "- Implementation Opening and Closing on Noised & Broken Char Image\n",
    "    - remove noise using opening\n",
    "    - join the gap using closing"
   ],
   "metadata": {}
  },
  {
   "cell_type": "code",
   "execution_count": 40,
   "source": [
    "# read image\n",
    "img = cv2.imread('Noised_Broken_Char.png')\n",
    "\n",
    "# convert to gray\n",
    "gray = cv2.cvtColor(img, cv2.COLOR_BGR2GRAY)\n",
    "\n",
    "# apply simple thresholding binary\n",
    "ret, thresh = cv2.threshold(img, 127, 255, cv2.THRESH_BINARY)\n",
    "\n",
    "# create kernel matrix 3x3\n",
    "kernel = np.ones((3,3),np.uint8)\n",
    "\n",
    "# apply Advance Morphological Tracsform (Opening & Closing)\n",
    "opening = cv2.morphologyEx(thresh, cv2.MORPH_OPEN, kernel, iterations=3)\n",
    "closing = cv2.morphologyEx(opening, cv2.MORPH_CLOSE, kernel, iterations=7)\n",
    "\n",
    "\n",
    "# show result\n",
    "cv2.imshow(\"Opening\", opening)\n",
    "cv2.imshow(\"Closing\", closing)\n",
    "cv2.imshow(\"Original\", img)\n",
    "cv2.waitKey(0)\n",
    "cv2.destroyAllWindows()"
   ],
   "outputs": [],
   "metadata": {}
  },
  {
   "cell_type": "markdown",
   "source": [
    "___\n",
    "## 2.2 Morphological Gradient\n",
    "- Because dilation and erosion mostly affect the pixels that are close to the boundary between the foreground and background, their difference generally yields the boundary and thus this is used for **edge detection and segmentation tasks**."
   ],
   "metadata": {}
  },
  {
   "cell_type": "code",
   "execution_count": 41,
   "source": [
    "img = cv2.imread('Char.png')\n",
    "gray = cv2.cvtColor(img, cv2.COLOR_BGR2GRAY)\n",
    "ret, thresh = cv2.threshold(img, 127, 255, cv2.THRESH_BINARY)\n",
    "\n",
    "kernel = np.ones((3,3),np.uint8)\n",
    "\n",
    "# gradient using erosion and dilation\n",
    "erosion = cv2.erode(thresh, kernel, iterations = 1)\n",
    "dilation = cv2.dilate(thresh, kernel, iterations = 1)\n",
    "gradient1 = dilation - erosion\n",
    "\n",
    "# Morphological Gradient\n",
    "gradient2 = cv2.morphologyEx(thresh, cv2.MORPH_GRADIENT, kernel, iterations = 1)\n",
    "\n",
    "cv2.imshow(\"Gradient\", gradient1)\n",
    "cv2.imshow(\"Morphological Gradient\", gradient2)\n",
    "cv2.imshow(\"Original\", img)\n",
    "cv2.waitKey(0)\n",
    "cv2.destroyAllWindows()"
   ],
   "outputs": [],
   "metadata": {}
  },
  {
   "cell_type": "markdown",
   "source": [
    "___\n",
    "## EXAMPLE : Morphological Gradient Implementation | Tackling non-uniform illumination in images"
   ],
   "metadata": {}
  },
  {
   "cell_type": "markdown",
   "source": [
    "- Using Simple Thresholding"
   ],
   "metadata": {}
  },
  {
   "cell_type": "code",
   "execution_count": 42,
   "source": [
    "# read image\n",
    "img = cv2.imread('StrukBelanja.png')\n",
    "\n",
    "# convert to grayscale\n",
    "gray = cv2.cvtColor(img, cv2.COLOR_BGR2GRAY)\n",
    "\n",
    "# apply simple thresholding Binary + Otsu's to tackling non-uniform illumination in images (just fro comparison)\n",
    "ret, thresh = cv2.threshold(gray, 0, 255, cv2.THRESH_BINARY + cv2.THRESH_OTSU)\n",
    "\n",
    "# show result\n",
    "cv2.imshow(\"Otsu\", thresh)\n",
    "cv2.imshow(\"Original\", img)\n",
    "cv2.waitKey(0)\n",
    "cv2.destroyAllWindows()"
   ],
   "outputs": [],
   "metadata": {}
  },
  {
   "cell_type": "markdown",
   "source": [
    "- Simple Thresholding (Binary)\n",
    "![](resource/th_binary_ilumination.png)\n",
    "- Simple Thresholding (To Zero)\n",
    "![](resource/th_tzr_ilumination.png)"
   ],
   "metadata": {}
  },
  {
   "cell_type": "markdown",
   "source": [
    "- Using Morphological Gradient"
   ],
   "metadata": {}
  },
  {
   "cell_type": "code",
   "execution_count": 44,
   "source": [
    "# read image\n",
    "img = cv2.imread('StrukBelanja.png')\n",
    "\n",
    "# convert to gray\n",
    "gray = cv2.cvtColor(img, cv2.COLOR_BGR2GRAY)\n",
    "\n",
    "# apply Morphological Gradient with kernel 2x2 to tackling non-uniform illumination in images \n",
    "kernel = np.ones((2,2),np.uint8)\n",
    "gradient = cv2.morphologyEx(gray, cv2.MORPH_GRADIENT, kernel, iterations = 1)\n",
    "\n",
    "\n",
    "# apply simple thresholding Binary + Otsu's to tackling non-uniform illumination in images (just fro comparison)\n",
    "ret, thresh = cv2.threshold(gradient, 0, 255, cv2.THRESH_BINARY + cv2.THRESH_OTSU)\n",
    "\n",
    "# show image\n",
    "cv2.imshow(\"Morphological Gradient\", gradient)\n",
    "cv2.imshow(\"Threshold from Gradient Image\", thresh)\n",
    "cv2.imshow(\"Original\", img)\n",
    "cv2.waitKey(0)\n",
    "cv2.destroyAllWindows()"
   ],
   "outputs": [],
   "metadata": {}
  },
  {
   "cell_type": "markdown",
   "source": [
    "- Morphological Gradient\n",
    "![](resource/morph_grad_ilumination.png)"
   ],
   "metadata": {}
  },
  {
   "cell_type": "markdown",
   "source": [
    "___\n",
    "## EXAMPLE : Fingerprint image with non-uniform illumination"
   ],
   "metadata": {}
  },
  {
   "cell_type": "code",
   "execution_count": 45,
   "source": [
    "# read image\n",
    "img = cv2.imread('Fingerprint.png')\n",
    "\n",
    "# apply bitwise not \n",
    "img = cv2.bitwise_not(img)\n",
    "\n",
    "# covert to grayscale\n",
    "gray = cv2.cvtColor(img, cv2.COLOR_BGR2GRAY)\n",
    "\n",
    "# apply simple thresholding To Zero Inverse\n",
    "ret, thresh = cv2.threshold(gray, 127, 255, cv2.THRESH_TOZERO_INV)\n",
    "\n",
    "# apply morphological gradient with kernel 3x3 to remove illumination in image\n",
    "kernel = np.ones((3,3),np.uint8)\n",
    "gradient = cv2.morphologyEx(gray, cv2.MORPH_GRADIENT, kernel, iterations = 1)\n",
    "\n",
    "# show result\n",
    "cv2.imshow(\"Morphological Gradient\", gradient)\n",
    "cv2.imshow(\"To Zero\", thresh)\n",
    "cv2.imshow(\"Original\", img)\n",
    "cv2.waitKey(0)\n",
    "cv2.destroyAllWindows()"
   ],
   "outputs": [],
   "metadata": {}
  },
  {
   "cell_type": "markdown",
   "source": [
    "___\n",
    "## EXAMPLE : License Plate With a lot of noise\n",
    "\n",
    "- read image `number_plate.jpg`\n",
    "- apply morphological gradient, kernel 3x3, iteration 1\n",
    "- apply tozero thresholding, threshold = 100, maxVal = 255\n",
    "- find contour method RETR_EXTERNAL, mode CHAIN_APPROX_NONE\n",
    "- draw contour, color red, thicness 1 <br>\n",
    "<img src=\"resource/plate_number.png\" style=\"width:300px;\" ></img>"
   ],
   "metadata": {}
  },
  {
   "cell_type": "code",
   "execution_count": 50,
   "source": [
    "# load image\n",
    "img = cv2.imread('number_plate.jpg')\n",
    "\n",
    "# convert to gray\n",
    "gray = cv2.cvtColor(img, cv2.COLOR_BGR2GRAY)\n",
    "\n",
    "# apply morphological gradient with kernel 3x3\n",
    "kernel = np.ones((3,3),np.uint8)\n",
    "gradient = cv2.morphologyEx(gray, cv2.MORPH_GRADIENT, kernel, iterations = 1)\n",
    "\n",
    "# apply simple thresholding TOZERO \n",
    "ret, thresh = cv2.threshold(gradient, 0, 255, cv2.THRESH_TOZERO + cv2.THRESH_OTSU)\n",
    "\n",
    "# find contour & draw contour from binary image\n",
    "contours, hierarchy = cv2.findContours(thresh, cv2.RETR_EXTERNAL, cv2.CHAIN_APPROX_NONE)\n",
    "\n",
    "for cnt in contours:\n",
    "    cv2.drawContours(img, [cnt], -1, (0,0,255), 1)\n",
    "\n",
    "\n",
    "# show image\n",
    "cv2.imshow(\"Morphological Gradient\", gradient)\n",
    "cv2.imshow(\"Edge - Thresholding\", thresh)\n",
    "cv2.imshow(\"Original\", img)\n",
    "cv2.waitKey(0)\n",
    "cv2.destroyAllWindows()"
   ],
   "outputs": [],
   "metadata": {}
  },
  {
   "cell_type": "markdown",
   "source": [
    "___"
   ],
   "metadata": {}
  },
  {
   "cell_type": "markdown",
   "source": [
    "___\n",
    "# 3 Morphological Trasform CUDA Implementation\n",
    "- Create Object using class `cv2.cuda.createMorphologyFilter(op, srcType, kernel, anchor, iterations)`\n",
    "- where : \n",
    "    - `op` is : \n",
    "        - `cv2.MORPH_ERODE` : erode\n",
    "        - `cv2.MORPH_DILATE` : dilate\n",
    "        - `cv2.MORPH_OPEN` : opening\n",
    "        - `cv2.MORPH_CLOSE` : closing\n",
    "        - `cv2.MORPH_GRADIENT` : morphological gradient\n",
    "    - `srcType` : Input/output image type. Only `cv2.CV_8UC1`, `cv2.CV_8UC4`, `cv2.CV_32FC1` and `cv2.CV_32FC4` are supported\n",
    "    - `kernel` : kernel matrix (ndarray), created using `np.ones()` or `cv2.getStructuringElement()` \n",
    "    - `anchor` : Evaluated pixel value on the kernel position, default (-1, -1) as Center of kernel.\n",
    "    - `iterations` : Number of times erotion aplied to input image.\n",
    "- Use method `.apply(src, dst)` to generate morhological result image\n",
    "- where : \n",
    "    - `src` : input image (GPU mat)\n",
    "    - `dst` : output image (GPU mat)"
   ],
   "metadata": {}
  },
  {
   "cell_type": "code",
   "execution_count": 52,
   "source": [
    "\n",
    "# load image in Host memory\n",
    "img = cv2.imread(\"number_plate.jpg\")\n",
    "h, w, c = img.shape\n",
    "\n",
    "# GPU memory initialization\n",
    "img_GpuMat = cv2.cuda_GpuMat() # Create GpuMat object \n",
    "img_GpuMat.create((w, h), cv2.CV_8UC3) # cv2.CV_8UC3 -> 8bit image 3 channel\n",
    "gray_GpuMat = cv2.cuda_GpuMat() # Create GpuMat object \n",
    "gray_GpuMat.create((w, h), cv2.CV_8UC1) # cv2.CV_8UC1 -> 8bit image 1 channel\n",
    "gradient_GpuMat = cv2.cuda_GpuMat() # Create GpuMat object \n",
    "gradient_GpuMat.create((w, h), cv2.CV_8UC1) # cv2.CV_8UC1 -> 8bit image 1 channel\n",
    "thresh_GpuMat = cv2.cuda_GpuMat() # Create GpuMat object \n",
    "thresh_GpuMat.create((w, h), cv2.CV_8UC1) # cv2.CV_8UC1 -> 8bit image 1 channel\n",
    "\n",
    "# create CUDA morphological gradient object with kernel 3x3\n",
    "kernel = np.ones((3,3),np.uint8)\n",
    "MorhGradient = cv2.cuda.createMorphologyFilter(cv2.MORPH_GRADIENT, cv2.CV_8UC1, kernel, iterations = 1)\n",
    "\n",
    "# upload to GPU memory\n",
    "img_GpuMat.upload(img)\n",
    "\n",
    "# CUDA convert to gray\n",
    "cv2.cuda.cvtColor(img_GpuMat, cv2.COLOR_BGR2GRAY, gray_GpuMat)\n",
    "\n",
    "# Apply CUDA Morphological Gradient\n",
    "MorhGradient.apply(gray_GpuMat, gradient_GpuMat)\n",
    "\n",
    "# apply CUDA thresholding\n",
    "cv2.cuda.threshold(gradient_GpuMat, 100, 255, cv2.THRESH_TOZERO, thresh_GpuMat)\n",
    "\n",
    "# Download Matrix to Host Memory                                                               \n",
    "thresh = thresh_GpuMat.download()\n",
    "gradient = gradient_GpuMat.download()\n",
    "\n",
    "# find contour & draw contour from binary image\n",
    "contours, hierarchy = cv2.findContours(thresh, cv2.RETR_EXTERNAL, cv2.CHAIN_APPROX_NONE)\n",
    "\n",
    "for cnt in contours:\n",
    "    cv2.drawContours(img, [cnt], -1, (0,0,255), 1)\n",
    "\n",
    "\n",
    "# show image\n",
    "cv2.imshow(\"Morphological Gradient\", gradient)\n",
    "cv2.imshow(\"Edge - Thresholding\", thresh)\n",
    "cv2.imshow(\"Original\", img)\n",
    "cv2.waitKey(0)\n",
    "cv2.destroyAllWindows()"
   ],
   "outputs": [],
   "metadata": {}
  },
  {
   "cell_type": "markdown",
   "source": [
    "___\n",
    "# Source\n",
    "- [tutorial_erosion_dilatation](https://docs.opencv.org/master/db/df6/tutorial_erosion_dilatation.html)\n",
    "- [tutorial_py_morphological_ops](https://docs.opencv.org/master/d9/d61/tutorial_py_morphological_ops.html)\n",
    "- [tutorial_morph_lines_detection](https://docs.opencv.org/master/dd/dd7/tutorial_morph_lines_detection.html)"
   ],
   "metadata": {}
  },
  {
   "cell_type": "markdown",
   "source": [],
   "metadata": {}
  }
 ],
 "metadata": {
  "kernelspec": {
   "name": "python3",
   "display_name": "Python 3.6.9 64-bit"
  },
  "language_info": {
   "codemirror_mode": {
    "name": "ipython",
    "version": 3
   },
   "file_extension": ".py",
   "mimetype": "text/x-python",
   "name": "python",
   "nbconvert_exporter": "python",
   "pygments_lexer": "ipython3",
   "version": "3.6.9"
  },
  "interpreter": {
   "hash": "31f2aee4e71d21fbe5cf8b01ff0e069b9275f58929596ceb00d14d90e3e16cd6"
  }
 },
 "nbformat": 4,
 "nbformat_minor": 4
}