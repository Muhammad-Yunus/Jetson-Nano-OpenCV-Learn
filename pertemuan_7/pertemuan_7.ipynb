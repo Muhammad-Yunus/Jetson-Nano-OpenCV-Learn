{
 "cells": [
  {
   "cell_type": "markdown",
   "source": [
    "# Pertemuan 7\n",
    "\n",
    "- 1. Basic Morphological Transform (Eroding & Dilating)\n",
    "- 2. Advance Morphological Transform (Opening, Closing, & Morphological Gradient)\n",
    "- 3. CUDA Implementation\n",
    "\n",
    "___\n",
    "### Maximizing Jetson Nano Perfomance"
   ],
   "metadata": {}
  },
  {
   "cell_type": "code",
   "execution_count": null,
   "source": [
    "# sudo nvpmodel -m 0\n",
    "# sudo jetson_clocks"
   ],
   "outputs": [],
   "metadata": {}
  },
  {
   "cell_type": "code",
   "execution_count": null,
   "source": [
    "import cv2\n",
    "import matplotlib.pyplot as plt\n",
    "import numpy as np"
   ],
   "outputs": [],
   "metadata": {}
  },
  {
   "cell_type": "code",
   "execution_count": null,
   "source": [
    "# check OpenCV Version\n",
    "\n",
    "cv2.__version__"
   ],
   "outputs": [],
   "metadata": {}
  },
  {
   "cell_type": "markdown",
   "source": [
    "___\n",
    "# 1. Basic Morphological Transform (Eroding & Dilating)\n",
    "\n",
    "- A set of operations that process images based on shapes. \n",
    "- Morphological operations apply a structuring element to an input image and generate an output image.\n",
    "- Usecase :\n",
    "    - Removing noise\n",
    "    - Isolation of individual elements and joining disparate elements in an image.\n",
    "    - Finding of intensity bumps or holes in an image\n",
    "\n",
    "## 1.1 Dilating\n",
    "- This operations consists of convolving an image $A$ with some **kernel** ($B$), which can have any shape or size, usually a **square** or **circle**.\n",
    "- The kernel $B$ has a defined **anchor point**, usually being the center of the kernel.\n",
    "- As the kernel $B$ is scanned over the image, we compute the maximal pixel value overlapped by $B$ and **replace** the image pixel in the **anchor point** position with that **maximal value**. \n",
    "- This maximizing operation causes **bright regions** within an image to **\"grow\"** (therefore the name dilation). <br>\n",
    "<img src=\"resource/Original_Image.png\" style=\"width:100px; margin-top:10px;\"></img>\n",
    "<img src=\"resource/Dilation.png\" style=\"width:100px; margin-top:10px;\"></img> <br>\n",
    "<span style=\"width:100px; padding:5px;\">Original Image</span>\n",
    "<span style=\"width:100px; padding:5px;\">Dilation Image</span>\n",
    "- Dilation function `cv2.dilate(img, kernel, anchor, iterations)`\n",
    "- Where :\n",
    "    - `img` : Input image\n",
    "    - `kernel` : kernel matrix (ndarray), created using `np.ones()` or `cv2.getStructuringElement()` \n",
    "    - `anchor` : Evaluated pixel value on the kernel position, default (-1, -1) as Center of kernel.\n",
    "    - `iterations` : Number of times dilation aplied to input image.\n",
    "    \n",
    "## 1.2 Eroding\n",
    "- This operation  computes a **local minimum** over the area of given kernel.\n",
    "- As the kernel $B$ is scanned over the image, we compute the minimal pixel value overlapped by $B$ and replace the image pixel under the **anchor point** with that **minimal value**.<br>\n",
    "<img src=\"resource/Original_Image.png\" style=\"width:100px; margin-top:10px;\"></img>\n",
    "<img src=\"resource/Erosion.png\" style=\"width:100px; margin-top:10px;\"></img> <br>\n",
    "<span style=\"width:100px; padding:5px;\">Original Image</span>\n",
    "<span style=\"width:100px; padding:5px;\">Erosion Image</span>\n",
    "- Eroding function `cv2.erode(img, kernel, anchor, iterations)`\n",
    "- Where :\n",
    "    - `img` : Input image\n",
    "    - `kernel` : kernel matrix (ndarray), created using `np.ones()` or `cv2.getStructuringElement()` \n",
    "    - `anchor` : Evaluated pixel value on the kernel position, default (-1, -1) as Center of kernel.\n",
    "    - `iterations` : Number of times erotion aplied to input image."
   ],
   "metadata": {}
  },
  {
   "cell_type": "markdown",
   "source": [
    "___\n",
    "## EXAMPLE 1 : Dilation"
   ],
   "metadata": {}
  },
  {
   "cell_type": "code",
   "execution_count": null,
   "source": [
    "# Create Black Image with two circel\n",
    "\n",
    "frame = np.zeros((20,20),np.uint8)\n",
    "cv2.circle(frame, (5,5), 3, (255,255,255), -1, cv2.LINE_AA)\n",
    "cv2.circle(frame, (14,14), 3, (255,255,255), -1, cv2.LINE_AA)\n",
    "\n",
    "plt.imshow(frame, cmap=\"gray\")"
   ],
   "outputs": [],
   "metadata": {}
  },
  {
   "cell_type": "code",
   "execution_count": null,
   "source": [
    "# Create square kernel 3x3 with all value element = 1\n",
    "\n",
    "kernel = np.ones((3,3),np.uint8)\n",
    "print(kernel)"
   ],
   "outputs": [],
   "metadata": {}
  },
  {
   "cell_type": "code",
   "execution_count": null,
   "source": [
    "# Apply dilation to black with 2 circle image above using previously created kernel \n",
    "dilate = cv2.dilate(frame.copy(), kernel, iterations = 4)\n",
    "\n",
    "plt.imshow(dilate, cmap=\"gray\")"
   ],
   "outputs": [],
   "metadata": {}
  },
  {
   "cell_type": "code",
   "execution_count": null,
   "source": [
    "# On above result, we can see that apllying Dilation in to black with 2 circle image \n",
    "# Giving us the image with a bigger circle (Dilation effect enlarging area of white surface)"
   ],
   "outputs": [],
   "metadata": {}
  },
  {
   "cell_type": "markdown",
   "source": [
    "___\n",
    "## EXAMPLE 2 : Erotion"
   ],
   "metadata": {}
  },
  {
   "cell_type": "code",
   "execution_count": null,
   "source": [
    "# Create square kernel 3x3 with all value element = 1\n",
    "\n",
    "kernel = np.ones((3,3),np.uint8)\n",
    "print(kernel)"
   ],
   "outputs": [],
   "metadata": {}
  },
  {
   "cell_type": "code",
   "execution_count": null,
   "source": [
    "# Apply erotion to black with 2 circle image above using previously created kernel \n",
    "eroding = cv2.erode(frame.copy(), kernel, iterations = 1)\n",
    "\n",
    "plt.imshow(eroding, cmap=\"gray\")"
   ],
   "outputs": [],
   "metadata": {}
  },
  {
   "cell_type": "code",
   "execution_count": null,
   "source": [
    "# On above result, we can see that apllying Erotion in to black with 2 circle image \n",
    "# Giving us the image with a smaller circle (Dilation effect shringking area of white surface)"
   ],
   "outputs": [],
   "metadata": {}
  },
  {
   "cell_type": "markdown",
   "source": [
    "____\n",
    "## Application : MRI image Denoising using Eroding \n",
    "\n",
    "- Using `cv2.erode()` with square kernel 3x3"
   ],
   "metadata": {}
  },
  {
   "cell_type": "code",
   "execution_count": null,
   "source": [
    "# read image\n",
    "img = cv2.imread('noisy_mri.jpg')\n",
    "\n",
    "# convert to grayscale\n",
    "gray = cv2.cvtColor(img, cv2.COLOR_BGR2GRAY)\n",
    "\n",
    "# create kernel & apply to eroding\n",
    "kernel = np.ones((3,3),np.uint8)\n",
    "erosion = cv2.erode(gray, kernel, iterations = 1)\n",
    "\n",
    "# show result\n",
    "cv2.imshow(\"Erosion\", erosion)\n",
    "cv2.imshow(\"Original\", img)\n",
    "cv2.waitKey(0)\n",
    "cv2.destroyAllWindows()"
   ],
   "outputs": [],
   "metadata": {}
  },
  {
   "cell_type": "markdown",
   "source": [
    "___\n",
    "## Application : Fixing Broken Character using Dilating"
   ],
   "metadata": {}
  },
  {
   "cell_type": "code",
   "execution_count": null,
   "source": [
    "# read image\n",
    "img = cv2.imread('Broker_Char.png')\n",
    "\n",
    "# convert to grayscale\n",
    "gray = cv2.cvtColor(img, cv2.COLOR_BGR2GRAY)\n",
    "\n",
    "# apply simple thresholding binary\n",
    "ret, thresh = cv2.threshold(img, 127, 255, cv2.THRESH_BINARY)\n",
    "\n",
    "# create kernel & apply to dilating\n",
    "kernel = np.ones((5,5),np.uint8)\n",
    "dilating = cv2.dilate(thresh, kernel, iterations = 5)\n",
    "\n",
    "cv2.imshow(\"Dilating\", dilating)\n",
    "cv2.imshow(\"Original\", img)\n",
    "cv2.waitKey(0)\n",
    "cv2.destroyAllWindows()"
   ],
   "outputs": [],
   "metadata": {}
  },
  {
   "cell_type": "markdown",
   "source": [
    "___\n",
    "## Appication : Use Eroding & Dilating at the same time for Denoising & Fixing broken line"
   ],
   "metadata": {}
  },
  {
   "cell_type": "code",
   "execution_count": null,
   "source": [
    "# read imag\n",
    "img = cv2.imread('Noised_Broken_Char.png')\n",
    "\n",
    "# convert to grayscale\n",
    "gray = cv2.cvtColor(img, cv2.COLOR_BGR2GRAY)\n",
    "\n",
    "# apply simpel thresholding binary\n",
    "ret, thresh = cv2.threshold(img, 127, 255, cv2.THRESH_BINARY)\n",
    "\n",
    "# create kernel 3x3\n",
    "kernel = np.ones((3,3),np.uint8)\n",
    "\n",
    "# apply eroding to reduce noise in image\n",
    "erosion = cv2.erode(thresh, kernel, iterations = 3)\n",
    "\n",
    "# apply dilating to fix broken line\n",
    "dilating = cv2.dilate(erosion, kernel, iterations = 9)\n",
    "\n",
    "# normalize dilation effect using eroding\n",
    "normalize = cv2.erode(dilating, kernel, iterations = 7)\n",
    "\n",
    "\n",
    "# show result\n",
    "cv2.imshow(\"Erosion\", erosion)\n",
    "cv2.imshow(\"Dilating\", dilating)\n",
    "cv2.imshow(\"Original\", img)\n",
    "cv2.imshow(\"normalize\", normalize)\n",
    "cv2.waitKey(0)\n",
    "cv2.destroyAllWindows()\n"
   ],
   "outputs": [],
   "metadata": {}
  },
  {
   "cell_type": "markdown",
   "source": [
    "___\n",
    "# 2. Advance Morphological Transform \n",
    "- Advance Morphological Transform use `cv2.morphologyEx(img, morphological_type, kernel, iterations)`\n",
    "- where :\n",
    "    - `img` : input image\n",
    "    - `morphological_type` : \n",
    "        - **Opening** : `cv2.MORPH_OPEN` (**erosion followed by dilation**. It is useful in **removing noise**.)<br>\n",
    "        <img src=\"resource/opening.png\" style=\"width:200px\"></img>\n",
    "        - **Closing** : `cv2.MORPH_CLOSE` (**Dilation followed by Erosion**. It is useful in **closing small holes** inside the foreground objects)<br>\n",
    "        <img src=\"resource/closing.png\" style=\"width:200px\"></img>\n",
    "        - **Morphological Gradient** : `cv2.MORPH_GRADIENT` (The result will look like the outline of the object.)<br>\n",
    "        <img src=\"resource/gradient.png\" style=\"width:200px\"></img>\n",
    "    - `kernel` : kernel matrix (ndarray), created using np.ones() or cv2.getStructuringElement()\n",
    "    - `iterations` : Number of times method (opening/closing/Gradient) aplied to input image."
   ],
   "metadata": {}
  },
  {
   "cell_type": "markdown",
   "source": [
    "___\n",
    "## 2.1 Opening & Closing"
   ],
   "metadata": {}
  },
  {
   "cell_type": "markdown",
   "source": [
    "- Implementation Opening on Noisy MRI Image\n",
    "- Object scale after opening similar to original"
   ],
   "metadata": {}
  },
  {
   "cell_type": "code",
   "execution_count": null,
   "source": [
    "# read image\n",
    "img = cv2.imread('noisy_mri.jpg')\n",
    "\n",
    "# convert to grayscale\n",
    "gray = cv2.cvtColor(img, cv2.COLOR_BGR2GRAY)\n",
    "\n",
    "# create kernel matrix 3x3\n",
    "kernel = np.ones((3,3),np.uint8)\n",
    "\n",
    "# apply advance morphological transform (Opening) \n",
    "opening = cv2.morphologyEx(gray, cv2.MORPH_OPEN, kernel, iterations=1)\n",
    "\n",
    "# show result\n",
    "cv2.imshow(\"Opening\", opening)\n",
    "cv2.imshow(\"Original\", img)\n",
    "cv2.waitKey(0)\n",
    "cv2.destroyAllWindows()"
   ],
   "outputs": [],
   "metadata": {}
  },
  {
   "cell_type": "markdown",
   "source": [
    "- Implementation Closing on Broken Char Image\n",
    "- Object scale after closing similar to original"
   ],
   "metadata": {}
  },
  {
   "cell_type": "code",
   "execution_count": null,
   "source": [
    "# read image\n",
    "img = cv2.imread('Broken_Char_2.png')\n",
    "\n",
    "# convert to grayscale\n",
    "gray = cv2.cvtColor(img, cv2.COLOR_BGR2GRAY)\n",
    "\n",
    "# apply simple thresholding\n",
    "ret, thresh = cv2.threshold(img, 127, 255, cv2.THRESH_BINARY)\n",
    "\n",
    "# create kernel matrix 3x3\n",
    "kernel = np.ones((3,3),np.uint8)\n",
    "\n",
    "# apply advance morphological transform (Closing) \n",
    "closing = cv2.morphologyEx(img, cv2.MORPH_CLOSE, kernel, iterations=3)\n",
    "\n",
    "\n",
    "# show image\n",
    "cv2.imshow(\"Closing\", closing)\n",
    "cv2.imshow(\"Original\", img)\n",
    "cv2.waitKey(0)\n",
    "cv2.destroyAllWindows()"
   ],
   "outputs": [],
   "metadata": {}
  },
  {
   "cell_type": "markdown",
   "source": [
    "- Implementation Opening and Closing on Noised & Broken Char Image\n",
    "    - remove noise using opening\n",
    "    - join the gap using closing"
   ],
   "metadata": {}
  },
  {
   "cell_type": "code",
   "execution_count": null,
   "source": [
    "# read image\n",
    "img = cv2.imread('Noised_Broken_Char.png')\n",
    "\n",
    "# convert to gray\n",
    "gray = cv2.cvtColor(img, cv2.COLOR_BGR2GRAY)\n",
    "\n",
    "# apply simple thresholding binary\n",
    "ret, thresh = cv2.threshold(img, 127, 255, cv2.THRESH_BINARY)\n",
    "\n",
    "# create kernel matrix 3x3\n",
    "kernel = np.ones((3,3),np.uint8)\n",
    "\n",
    "# apply Advance Morphological Tracsform (Opening & Closing)\n",
    "opening = cv2.morphologyEx(thresh, cv2.MORPH_OPEN, kernel, iterations=3)\n",
    "closing = cv2.morphologyEx(opening, cv2.MORPH_CLOSE, kernel, iterations=7)\n",
    "\n",
    "\n",
    "# show result\n",
    "cv2.imshow(\"Opening\", opening)\n",
    "cv2.imshow(\"Closing\", closing)\n",
    "cv2.imshow(\"Original\", img)\n",
    "cv2.waitKey(0)\n",
    "cv2.destroyAllWindows()"
   ],
   "outputs": [],
   "metadata": {}
  },
  {
   "cell_type": "markdown",
   "source": [
    "___\n",
    "## 2.2 Morphological Gradient\n",
    "- Because dilation and erosion mostly affect the pixels that are close to the boundary between the foreground and background, their difference generally yields the boundary and thus this is used for **edge detection and segmentation tasks**."
   ],
   "metadata": {}
  },
  {
   "cell_type": "code",
   "execution_count": null,
   "source": [
    "img = cv2.imread('Char.png')\n",
    "gray = cv2.cvtColor(img, cv2.COLOR_BGR2GRAY)\n",
    "ret, thresh = cv2.threshold(img, 127, 255, cv2.THRESH_BINARY)\n",
    "\n",
    "kernel = np.ones((3,3),np.uint8)\n",
    "\n",
    "# gradient using erosion and dilation\n",
    "erosion = cv2.erode(thresh, kernel, iterations = 1)\n",
    "dilation = cv2.dilate(thresh, kernel, iterations = 1)\n",
    "gradient1 = dilation - erosion\n",
    "\n",
    "# Morphological Gradient\n",
    "gradient2 = cv2.morphologyEx(thresh, cv2.MORPH_GRADIENT, kernel, iterations = 1)\n",
    "\n",
    "cv2.imshow(\"Gradient\", gradient1)\n",
    "cv2.imshow(\"Morphological Gradient\", gradient2)\n",
    "cv2.imshow(\"Original\", img)\n",
    "cv2.waitKey(0)\n",
    "cv2.destroyAllWindows()"
   ],
   "outputs": [],
   "metadata": {}
  },
  {
   "cell_type": "markdown",
   "source": [
    "___\n",
    "## EXAMPLE : Morphological Gradient Implementation | Tackling non-uniform illumination in images"
   ],
   "metadata": {}
  },
  {
   "cell_type": "markdown",
   "source": [
    "- Using Simple Thresholding"
   ],
   "metadata": {}
  },
  {
   "cell_type": "code",
   "execution_count": null,
   "source": [
    "# read image\n",
    "img = cv2.imread('StrukBelanja.png')\n",
    "\n",
    "# convert to grayscale\n",
    "gray = cv2.cvtColor(img, cv2.COLOR_BGR2GRAY)\n",
    "\n",
    "# apply simple thresholding Binary + Otsu's to tackling non-uniform illumination in images (just fro comparison)\n",
    "ret, thresh = cv2.threshold(gray, 0, 255, cv2.THRESH_BINARY + cv2.THRESH_OTSU)\n",
    "\n",
    "# show result\n",
    "cv2.imshow(\"Otsu\", thresh)\n",
    "cv2.imshow(\"Original\", img)\n",
    "cv2.waitKey(0)\n",
    "cv2.destroyAllWindows()"
   ],
   "outputs": [],
   "metadata": {}
  },
  {
   "cell_type": "markdown",
   "source": [
    "- Simple Thresholding (Binary)\n",
    "![](resource/th_binary_ilumination.png)\n",
    "- Simple Thresholding (To Zero)\n",
    "![](resource/th_tzr_ilumination.png)"
   ],
   "metadata": {}
  },
  {
   "cell_type": "markdown",
   "source": [
    "- Using Morphological Gradient"
   ],
   "metadata": {}
  },
  {
   "cell_type": "code",
   "execution_count": null,
   "source": [
    "# read image\n",
    "img = cv2.imread('StrukBelanja.png')\n",
    "\n",
    "# convert to gray\n",
    "gray = cv2.cvtColor(img, cv2.COLOR_BGR2GRAY)\n",
    "\n",
    "# apply Morphological Gradient with kernel 2x2 to tackling non-uniform illumination in images \n",
    "kernel = np.ones((2,2),np.uint8)\n",
    "gradient = cv2.morphologyEx(gray, cv2.MORPH_GRADIENT, kernel, iterations = 1)\n",
    "\n",
    "# show image\n",
    "cv2.imshow(\"Morphological Gradient\", gradient)\n",
    "cv2.imshow(\"Original\", img)\n",
    "cv2.waitKey(0)\n",
    "cv2.destroyAllWindows()"
   ],
   "outputs": [],
   "metadata": {}
  },
  {
   "cell_type": "markdown",
   "source": [
    "- Morphological Gradient\n",
    "![](resource/morph_grad_ilumination.png)"
   ],
   "metadata": {}
  },
  {
   "cell_type": "markdown",
   "source": [
    "___\n",
    "## EXAMPLE : Fingerprint image with non-uniform illumination"
   ],
   "metadata": {}
  },
  {
   "cell_type": "code",
   "execution_count": 16,
   "source": [
    "# read image\n",
    "img = cv2.imread('Fingerprint.png')\n",
    "\n",
    "# apply bitwise not \n",
    "img = cv2.bitwise_not(img)\n",
    "\n",
    "# covert to grayscale\n",
    "gray = cv2.cvtColor(img, cv2.COLOR_BGR2GRAY)\n",
    "\n",
    "# apply simple thresholding To Zero Inverse\n",
    "ret, thresh = cv2.threshold(gray, 127, 255, cv2.THRESH_TOZERO_INV)\n",
    "\n",
    "# apply morphological gradient with kernel 3x3 to remove illumination in image\n",
    "kernel = np.ones((3,3),np.uint8)\n",
    "gradient = cv2.morphologyEx(gray, cv2.MORPH_GRADIENT, kernel, iterations = 1)\n",
    "\n",
    "# show result\n",
    "cv2.imshow(\"Morphological Gradient\", gradient)\n",
    "cv2.imshow(\"To Zero\", thresh)\n",
    "cv2.imshow(\"Original\", img)\n",
    "cv2.waitKey(0)\n",
    "cv2.destroyAllWindows()"
   ],
   "outputs": [],
   "metadata": {}
  },
  {
   "cell_type": "markdown",
   "source": [
    "___\n",
    "## EXAMPLE : License Plate With a lot of noise\n",
    "\n",
    "- read image `number_plate.jpg`\n",
    "- apply morphological gradient, kernel 3x3, iteration 1\n",
    "- apply tozero thresholding, threshold = 100, maxVal = 255\n",
    "- find contour method RETR_EXTERNAL, mode CHAIN_APPROX_NONE\n",
    "- draw contour, color red, thicness 1 <br>\n",
    "<img src=\"resource/plate_number.png\" style=\"width:300px;\" ></img>"
   ],
   "metadata": {}
  },
  {
   "cell_type": "code",
   "execution_count": null,
   "source": [
    "# load image\n",
    "img = cv2.imread('number_plate.jpg')\n",
    "\n",
    "# convert to gray\n",
    "gray = cv2.cvtColor(img, cv2.COLOR_BGR2GRAY)\n",
    "\n",
    "# apply morphological gradient with kernel 3x3\n",
    "kernel = np.ones((3,3),np.uint8)\n",
    "gradient = cv2.morphologyEx(gray, cv2.MORPH_GRADIENT, kernel, iterations = 1)\n",
    "\n",
    "# apply simple thresholding TOZERO \n",
    "ret, thresh = cv2.threshold(gradient, 100, 255, cv2.THRESH_TOZERO)\n",
    "\n",
    "# find contour & draw contour from binary image\n",
    "contours, hierarchy = cv2.findContours(thresh, cv2.RETR_EXTERNAL, cv2.CHAIN_APPROX_NONE)\n",
    "\n",
    "for cnt in contours:\n",
    "    cv2.drawContours(img, [cnt], -1, (0,0,255), 1)\n",
    "\n",
    "\n",
    "# show image\n",
    "cv2.imshow(\"Morphological Gradient\", gradient)\n",
    "cv2.imshow(\"Edge - Thresholding\", thresh)\n",
    "cv2.imshow(\"Original\", img)\n",
    "cv2.waitKey(0)\n",
    "cv2.destroyAllWindows()"
   ],
   "outputs": [],
   "metadata": {}
  },
  {
   "cell_type": "markdown",
   "source": [
    "___"
   ],
   "metadata": {}
  },
  {
   "cell_type": "markdown",
   "source": [
    "___\n",
    "# 3 Morphological Trasform CUDA Implementation\n",
    "- Create Object using class `cv2.cuda.createMorphologyFilter(op, srcType, kernel, anchor, iterations)`\n",
    "- where : \n",
    "    - `op` is : \n",
    "        - `cv2.MORPH_ERODE` : erode\n",
    "        - `cv2.MORPH_DILATE` : dilate\n",
    "        - `cv2.MORPH_OPEN` : opening\n",
    "        - `cv2.MORPH_CLOSE` : closing\n",
    "        - `cv2.MORPH_GRADIENT` : morphological gradient\n",
    "    - `srcType` : Input/output image type. Only `cv2.CV_8UC1`, `cv2.CV_8UC4`, `cv2.CV_32FC1` and `cv2.CV_32FC4` are supported\n",
    "    - `kernel` : kernel matrix (ndarray), created using `np.ones()` or `cv2.getStructuringElement()` \n",
    "    - `anchor` : Evaluated pixel value on the kernel position, default (-1, -1) as Center of kernel.\n",
    "    - `iterations` : Number of times erotion aplied to input image.\n",
    "- Use method `.apply(src, dst)` to generate morhological result image\n",
    "- where : \n",
    "    - `src` : input image (GPU mat)\n",
    "    - `dst` : input image (GPU mat)"
   ],
   "metadata": {}
  },
  {
   "cell_type": "code",
   "execution_count": 21,
   "source": [
    "\n",
    "# load image in Host memory\n",
    "img = cv2.imread(\"number_plate.jpg\")\n",
    "h, w, c = img.shape\n",
    "\n",
    "# GPU memory initialization\n",
    "img_GpuMat = cv2.cuda_GpuMat() # Create GpuMat object \n",
    "img_GpuMat.create((w, h), cv2.CV_8UC3) # cv2.CV_8UC3 -> 8bit image 3 channel\n",
    "gray_GpuMat = cv2.cuda_GpuMat() # Create GpuMat object \n",
    "gray_GpuMat.create((w, h), cv2.CV_8UC1) # cv2.CV_8UC1 -> 8bit image 1 channel\n",
    "gradient_GpuMat = cv2.cuda_GpuMat() # Create GpuMat object \n",
    "gradient_GpuMat.create((w, h), cv2.CV_8UC1) # cv2.CV_8UC1 -> 8bit image 1 channel\n",
    "thresh_GpuMat = cv2.cuda_GpuMat() # Create GpuMat object \n",
    "thresh_GpuMat.create((w, h), cv2.CV_8UC1) # cv2.CV_8UC1 -> 8bit image 1 channel\n",
    "res_GpuMat = cv2.cuda_GpuMat() # Create GpuMat object \n",
    "res_GpuMat.create((w, h), cv2.CV_8UC3) # cv2.CV_8UC3 -> 8bit image 3 channel\n",
    "\n",
    "# create CUDA morphological gradient object with kernel 3x3\n",
    "kernel = np.ones((3,3),np.uint8)\n",
    "MorhGradient = cv2.cuda.createMorphologyFilter(cv2.MORPH_GRADIENT, cv2.CV_8UC1, kernel, iterations = 1)\n",
    "\n",
    "# upload to GPU memory\n",
    "img_GpuMat.upload(img)\n",
    "\n",
    "# CUDA convert to gray\n",
    "cv2.cuda.cvtColor(img_GpuMat, cv2.COLOR_BGR2GRAY, gray_GpuMat)\n",
    "\n",
    "# Apply CUDA Morphological Gradient\n",
    "MorhGradient.apply(gray_GpuMat, gradient_GpuMat)\n",
    "\n",
    "\n",
    "# apply CUDA thresholding\n",
    "cv2.cuda.threshold(gradient_GpuMat, 100, 255, cv2.THRESH_TOZERO, thresh_GpuMat)\n",
    "\n",
    "# Download Matrix to Host Memory                                                               \n",
    "thresh = thresh_GpuMat.download()\n",
    "gradient = gradient_GpuMat.download()\n",
    "\n",
    "# find contour & draw contour from binary image\n",
    "contours, hierarchy = cv2.findContours(thresh, cv2.RETR_EXTERNAL, cv2.CHAIN_APPROX_NONE)\n",
    "\n",
    "for cnt in contours:\n",
    "    cv2.drawContours(img, [cnt], -1, (0,0,255), 1)\n",
    "\n",
    "\n",
    "# show image\n",
    "cv2.imshow(\"Morphological Gradient\", gradient)\n",
    "cv2.imshow(\"Edge - Thresholding\", thresh)\n",
    "cv2.imshow(\"Original\", img)\n",
    "cv2.waitKey(0)\n",
    "cv2.destroyAllWindows()"
   ],
   "outputs": [],
   "metadata": {}
  },
  {
   "cell_type": "markdown",
   "source": [
    "___\n",
    "# Source\n",
    "- [tutorial_erosion_dilatation](https://docs.opencv.org/master/db/df6/tutorial_erosion_dilatation.html)\n",
    "- [tutorial_py_morphological_ops](https://docs.opencv.org/master/d9/d61/tutorial_py_morphological_ops.html)\n",
    "- [tutorial_morph_lines_detection](https://docs.opencv.org/master/dd/dd7/tutorial_morph_lines_detection.html)"
   ],
   "metadata": {}
  },
  {
   "cell_type": "markdown",
   "source": [],
   "metadata": {}
  }
 ],
 "metadata": {
  "kernelspec": {
   "name": "python3",
   "display_name": "Python 3.6.9 64-bit"
  },
  "language_info": {
   "codemirror_mode": {
    "name": "ipython",
    "version": 3
   },
   "file_extension": ".py",
   "mimetype": "text/x-python",
   "name": "python",
   "nbconvert_exporter": "python",
   "pygments_lexer": "ipython3",
   "version": "3.6.9"
  },
  "interpreter": {
   "hash": "31f2aee4e71d21fbe5cf8b01ff0e069b9275f58929596ceb00d14d90e3e16cd6"
  }
 },
 "nbformat": 4,
 "nbformat_minor": 4
}